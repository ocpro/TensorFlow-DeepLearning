{
 "cells": [
  {
   "cell_type": "markdown",
   "metadata": {},
   "source": [
    "### 实例描述\n",
    "#### 通过定义两个矩阵变量相乘来演示使用gradients求梯度"
   ]
  },
  {
   "cell_type": "code",
   "execution_count": 1,
   "metadata": {},
   "outputs": [],
   "source": [
    "import tensorflow as tf"
   ]
  },
  {
   "cell_type": "code",
   "execution_count": 11,
   "metadata": {},
   "outputs": [
    {
     "name": "stdout",
     "output_type": "stream",
     "text": [
      "[array([[ 9., 10.]], dtype=float32)]\n",
      "[array([[ 9., 10.]], dtype=float32)]\n"
     ]
    }
   ],
   "source": [
    "w1 = tf.Variable([[1.0,2.0]])\n",
    "w2 = tf.Variable([[3.0,4.0]])\n",
    "\n",
    "y1 = tf.matmul(w1, [[9.0], [10.0]])\n",
    "grads1 = tf.gradients(y1, [w1])\n",
    "y2 = tf.matmul(w2, [[9.0], [10.0]])\n",
    "grads2 = tf.gradients(y2, [w2])\n",
    "\n",
    "with tf.Session() as sess:\n",
    "    sess.run(tf.global_variables_initializer())\n",
    "    gradval1 = sess.run(grads1)\n",
    "    print(gradval1)\n",
    "    gradval2 = sess.run(grads2)\n",
    "    print(gradval2)"
   ]
  },
  {
   "cell_type": "code",
   "execution_count": null,
   "metadata": {},
   "outputs": [],
   "source": []
  }
 ],
 "metadata": {
  "kernelspec": {
   "display_name": "Python 3",
   "language": "python",
   "name": "python3"
  },
  "language_info": {
   "codemirror_mode": {
    "name": "ipython",
    "version": 3
   },
   "file_extension": ".py",
   "mimetype": "text/x-python",
   "name": "python",
   "nbconvert_exporter": "python",
   "pygments_lexer": "ipython3",
   "version": "3.6.5"
  }
 },
 "nbformat": 4,
 "nbformat_minor": 2
}
