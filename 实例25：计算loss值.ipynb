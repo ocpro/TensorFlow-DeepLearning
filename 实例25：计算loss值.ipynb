{
 "cells": [
  {
   "cell_type": "code",
   "execution_count": 6,
   "metadata": {
    "collapsed": true
   },
   "outputs": [],
   "source": [
    "import tensorflow as tf"
   ]
  },
  {
   "cell_type": "code",
   "execution_count": 7,
   "metadata": {
    "collapsed": false
   },
   "outputs": [],
   "source": [
    "labels = [[0, 0, 1], [0, 1, 0]]\n",
    "logits = [[2, 0.5, 6], [0.1, 0, 3]]\n",
    "logits_scaled = tf.nn.softmax(logits)\n",
    "logits_scaled2 = tf.nn.softmax(logits_scaled)\n",
    "\n",
    "result1 = tf.nn.softmax_cross_entropy_with_logits(labels=labels, logits=logits)\n",
    "result2 = tf.nn.softmax_cross_entropy_with_logits(labels=labels, logits=logits_scaled)\n",
    "result3 = -tf.reduce_sum(labels * tf.log(logits_scaled), 1)"
   ]
  },
  {
   "cell_type": "code",
   "execution_count": 8,
   "metadata": {
    "collapsed": false
   },
   "outputs": [
    {
     "name": "stdout",
     "output_type": "stream",
     "text": [
      "loss= 1.5609143\n"
     ]
    }
   ],
   "source": [
    "loss = tf.reduce_mean(result1)\n",
    "with tf.Session() as sess:\n",
    "    print(\"loss=\", sess.run(loss))"
   ]
  },
  {
   "cell_type": "code",
   "execution_count": 9,
   "metadata": {
    "collapsed": false
   },
   "outputs": [
    {
     "name": "stdout",
     "output_type": "stream",
     "text": [
      "loss2= 1.5609144\n"
     ]
    }
   ],
   "source": [
    "loss2 = tf.reduce_mean(-tf.reduce_sum(labels * tf.log(logits_scaled), 1))\n",
    "with tf.Session() as sess:\n",
    "    print(\"loss2=\", sess.run(loss2))"
   ]
  },
  {
   "cell_type": "code",
   "execution_count": null,
   "metadata": {
    "collapsed": true
   },
   "outputs": [],
   "source": []
  }
 ],
 "metadata": {
  "kernelspec": {
   "display_name": "Python [conda root]",
   "language": "python",
   "name": "conda-root-py"
  },
  "language_info": {
   "codemirror_mode": {
    "name": "ipython",
    "version": 3
   },
   "file_extension": ".py",
   "mimetype": "text/x-python",
   "name": "python",
   "nbconvert_exporter": "python",
   "pygments_lexer": "ipython3",
   "version": "3.5.2"
  }
 },
 "nbformat": 4,
 "nbformat_minor": 1
}
