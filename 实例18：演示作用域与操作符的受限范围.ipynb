{
 "cells": [
  {
   "cell_type": "code",
   "execution_count": 7,
   "metadata": {
    "collapsed": true
   },
   "outputs": [],
   "source": [
    "import tensorflow as tf"
   ]
  },
  {
   "cell_type": "code",
   "execution_count": 12,
   "metadata": {
    "collapsed": true
   },
   "outputs": [],
   "source": [
    "tf.reset_default_graph() "
   ]
  },
  {
   "cell_type": "code",
   "execution_count": 9,
   "metadata": {
    "collapsed": false
   },
   "outputs": [
    {
     "name": "stdout",
     "output_type": "stream",
     "text": [
      "sp: scope1\n",
      "var1: scope1/v:0\n",
      "sp1: scope1\n",
      "var2: scope2/v:0\n",
      "var3: scope1/v3:0\n"
     ]
    }
   ],
   "source": [
    "with tf.variable_scope(\"scope1\") as sp:\n",
    "    var1 = tf.get_variable(\"v\", [1])\n",
    "\n",
    "# 作用域名称\n",
    "print(\"sp:\", sp.name)\n",
    "print(\"var1:\", var1.name)\n",
    "\n",
    "with tf.variable_scope('scope2'):\n",
    "    var2 = tf.get_variable(\"v\", [1])\n",
    "    \n",
    "    with tf.variable_scope(sp) as sp1:\n",
    "        var3 = tf.get_variable(\"v3\", [1])\n",
    "\n",
    "print(\"sp1:\",sp1.name)\n",
    "print(\"var2:\", var2.name)\n",
    "print(\"var3:\", var3.name)"
   ]
  },
  {
   "cell_type": "code",
   "execution_count": 10,
   "metadata": {
    "collapsed": false
   },
   "outputs": [
    {
     "name": "stdout",
     "output_type": "stream",
     "text": [
      "v: scope/v:0\n",
      "x.op: scope/bar/add\n"
     ]
    }
   ],
   "source": [
    "with tf.variable_scope(\"scope\"):\n",
    "    with tf.name_scope(\"bar\"):\n",
    "        v = tf.get_variable(\"v\", [1])\n",
    "        x = 1.0 + v\n",
    "print(\"v:\",v.name)  \n",
    "print(\"x.op:\",x.op.name)"
   ]
  },
  {
   "cell_type": "code",
   "execution_count": 13,
   "metadata": {
    "collapsed": false
   },
   "outputs": [
    {
     "name": "stdout",
     "output_type": "stream",
     "text": [
      "var4: scope1//v4:0\n",
      "y.op: add\n"
     ]
    }
   ],
   "source": [
    "with tf.variable_scope(\"scope2\"):\n",
    "    var2 = tf.get_variable(\"v\", [1])\n",
    "    \n",
    "    with tf.variable_scope(sp) as sp1:\n",
    "        var3 = tf.get_variable(\"v3\", [1])\n",
    "          \n",
    "        with tf.variable_scope(\"\") :\n",
    "            var4 = tf.get_variable(\"v4\", [1])\n",
    "with tf.variable_scope(\"scope\"):\n",
    "    with tf.name_scope(\"bar\"):\n",
    "        v = tf.get_variable(\"v\", [1])\n",
    "        x = 1.0 + v\n",
    "        with tf.name_scope(\"\"):\n",
    "            y = 1.0 + v\n",
    "\n",
    "print(\"var4:\",var4.name)\n",
    "print(\"y.op:\",y.op.name)"
   ]
  },
  {
   "cell_type": "code",
   "execution_count": null,
   "metadata": {
    "collapsed": true
   },
   "outputs": [],
   "source": []
  }
 ],
 "metadata": {
  "anaconda-cloud": {},
  "kernelspec": {
   "display_name": "Python [conda root]",
   "language": "python",
   "name": "conda-root-py"
  },
  "language_info": {
   "codemirror_mode": {
    "name": "ipython",
    "version": 3
   },
   "file_extension": ".py",
   "mimetype": "text/x-python",
   "name": "python",
   "nbconvert_exporter": "python",
   "pygments_lexer": "ipython3",
   "version": "3.5.2"
  }
 },
 "nbformat": 4,
 "nbformat_minor": 1
}
