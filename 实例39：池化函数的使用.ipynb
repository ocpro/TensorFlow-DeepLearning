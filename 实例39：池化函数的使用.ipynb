{
 "cells": [
  {
   "cell_type": "markdown",
   "metadata": {},
   "source": [
    "## 实例描述\n",
    "### 通过手动生成一个4*4的矩阵来模拟图片，定义一个2*2的滤波器，通过几个在卷积神经网络中常用的池化操作来测试池化函数里的参数，并验证输出结果"
   ]
  },
  {
   "cell_type": "markdown",
   "metadata": {},
   "source": [
    "## 1.定义输入变量"
   ]
  },
  {
   "cell_type": "code",
   "execution_count": 1,
   "metadata": {
    "collapsed": true
   },
   "outputs": [],
   "source": [
    "# 定义1个输入变量模拟图片、4*4的2通道矩阵，并赋予指定值。\n",
    "# 两个通道分别为4个0到3 3 3 3组成的矩阵， 4个4到7 7 7 7组成的矩阵\n",
    "import tensorflow as tf\n",
    "img = tf.constant([\n",
    "        [[0.0, 4.0], [0.0, 4.0], [0.0, 4.0], [0.0, 4.0]],\n",
    "        [[1.0, 5.0], [1.0, 5.0], [1.0, 5.0], [1.0, 5.0]],\n",
    "        [[2.0, 6.0], [2.0, 6.0], [2.0, 6.0], [2.0, 6.0]],\n",
    "        [[3.0, 7.0], [3.0, 7.0], [3.0, 7.0], [3.0, 7.0]]\n",
    "    ])\n",
    "img = tf.reshape(img, [1, 4, 4, 2])"
   ]
  },
  {
   "cell_type": "markdown",
   "metadata": {},
   "source": [
    "## 2.定义池化操作"
   ]
  },
  {
   "cell_type": "code",
   "execution_count": 4,
   "metadata": {
    "collapsed": false
   },
   "outputs": [],
   "source": [
    "pooling = tf.nn.max_pool(img, [1, 2, 2, 1], [1, 2, 2, 1], padding='VALID')\n",
    "pooling1 = tf.nn.max_pool(img, [1, 2, 2, 1], [1, 1, 1, 1], padding='VALID')\n",
    "pooling2 = tf.nn.avg_pool(img, [1, 4, 4, 1], [1, 1, 1, 1], padding='SAME')\n",
    "pooling3 = tf.nn.avg_pool(img, [1, 4, 4, 1], [1, 4, 4, 1], padding='SAME')\n",
    "# tf.transpose:转置“a”。根据“perm”调整尺寸。\n",
    "nt_hpool2_flat = tf.reshape(tf.transpose(img), [-1, 16])\n",
    "pooling4 = tf.reduce_mean(nt_hpool2_flat, 1)  # 1表示对行求均值（1表示轴是列），0表示对列求均值"
   ]
  },
  {
   "cell_type": "markdown",
   "metadata": {},
   "source": [
    "## 3.运行池化操作"
   ]
  },
  {
   "cell_type": "code",
   "execution_count": 8,
   "metadata": {
    "collapsed": false
   },
   "outputs": [
    {
     "name": "stdout",
     "output_type": "stream",
     "text": [
      "image:\n",
      "[[[[0. 4.]\n",
      "   [0. 4.]\n",
      "   [0. 4.]\n",
      "   [0. 4.]]\n",
      "\n",
      "  [[1. 5.]\n",
      "   [1. 5.]\n",
      "   [1. 5.]\n",
      "   [1. 5.]]\n",
      "\n",
      "  [[2. 6.]\n",
      "   [2. 6.]\n",
      "   [2. 6.]\n",
      "   [2. 6.]]\n",
      "\n",
      "  [[3. 7.]\n",
      "   [3. 7.]\n",
      "   [3. 7.]\n",
      "   [3. 7.]]]]\n",
      "result:\n",
      " [[[[1. 5.]\n",
      "   [1. 5.]]\n",
      "\n",
      "  [[3. 7.]\n",
      "   [3. 7.]]]]\n",
      "result1:\n",
      " [[[[1. 5.]\n",
      "   [1. 5.]\n",
      "   [1. 5.]]\n",
      "\n",
      "  [[2. 6.]\n",
      "   [2. 6.]\n",
      "   [2. 6.]]\n",
      "\n",
      "  [[3. 7.]\n",
      "   [3. 7.]\n",
      "   [3. 7.]]]]\n",
      "result2:\n",
      " [[[[1.  5. ]\n",
      "   [1.  5. ]\n",
      "   [1.  5. ]\n",
      "   [1.  5. ]]\n",
      "\n",
      "  [[1.5 5.5]\n",
      "   [1.5 5.5]\n",
      "   [1.5 5.5]\n",
      "   [1.5 5.5]]\n",
      "\n",
      "  [[2.  6. ]\n",
      "   [2.  6. ]\n",
      "   [2.  6. ]\n",
      "   [2.  6. ]]\n",
      "\n",
      "  [[2.5 6.5]\n",
      "   [2.5 6.5]\n",
      "   [2.5 6.5]\n",
      "   [2.5 6.5]]]]\n",
      "result3:\n",
      " [[[[1.5 5.5]]]]\n",
      "result4:\n",
      " [1.5 5.5]\n",
      "flat:\n",
      " [[0. 1. 2. 3. 0. 1. 2. 3. 0. 1. 2. 3. 0. 1. 2. 3.]\n",
      " [4. 5. 6. 7. 4. 5. 6. 7. 4. 5. 6. 7. 4. 5. 6. 7.]]\n"
     ]
    }
   ],
   "source": [
    "with tf.Session() as sess:\n",
    "    print(\"image:\")\n",
    "    image = sess.run(img)\n",
    "    print(image)\n",
    "    \n",
    "    result = sess.run(pooling)\n",
    "    print(\"result:\\n\", result)\n",
    "    \n",
    "    \n",
    "    result1 = sess.run(pooling1)\n",
    "    print(\"result1:\\n\", result1)\n",
    "    \n",
    "    result2 = sess.run(pooling2)\n",
    "    print(\"result2:\\n\", result2)\n",
    "    \n",
    "    result3 = sess.run(pooling3)\n",
    "    print(\"result3:\\n\", result3)\n",
    "    \n",
    "    flat,result4 = sess.run([nt_hpool2_flat, pooling4])\n",
    "    print(\"result4:\\n\", result4)\n",
    "    print(\"flat:\\n\", flat)"
   ]
  },
  {
   "cell_type": "code",
   "execution_count": 12,
   "metadata": {
    "collapsed": false
   },
   "outputs": [
    {
     "name": "stdout",
     "output_type": "stream",
     "text": [
      "(2, 16)\n"
     ]
    }
   ],
   "source": [
    "print(flat.shape)"
   ]
  },
  {
   "cell_type": "code",
   "execution_count": null,
   "metadata": {
    "collapsed": true
   },
   "outputs": [],
   "source": []
  }
 ],
 "metadata": {
  "anaconda-cloud": {},
  "kernelspec": {
   "display_name": "Python [conda root]",
   "language": "python",
   "name": "conda-root-py"
  },
  "language_info": {
   "codemirror_mode": {
    "name": "ipython",
    "version": 3
   },
   "file_extension": ".py",
   "mimetype": "text/x-python",
   "name": "python",
   "nbconvert_exporter": "python",
   "pygments_lexer": "ipython3",
   "version": "3.5.2"
  }
 },
 "nbformat": 4,
 "nbformat_minor": 1
}
