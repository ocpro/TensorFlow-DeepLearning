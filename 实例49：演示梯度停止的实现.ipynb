{
 "cells": [
  {
   "cell_type": "markdown",
   "metadata": {},
   "source": [
    "### 实例描述\n",
    "#### 演示梯度停止的用法，并观察当变量设置梯度停止后，对其求梯度的结果"
   ]
  },
  {
   "cell_type": "code",
   "execution_count": 1,
   "metadata": {},
   "outputs": [],
   "source": [
    "import tensorflow as tf"
   ]
  },
  {
   "cell_type": "code",
   "execution_count": 5,
   "metadata": {},
   "outputs": [
    {
     "name": "stdout",
     "output_type": "stream",
     "text": [
      "[array([1., 2.], dtype=float32)]\n"
     ]
    }
   ],
   "source": [
    "tf.reset_default_graph()\n",
    "w1 = tf.get_variable('w1', shape=[2])\n",
    "w2 = tf.get_variable('w2', shape=[2])\n",
    "\n",
    "w3 = tf.get_variable('w3', shape=[2])\n",
    "w4 = tf.get_variable('w4', shape=[2])\n",
    "y1 = w1 + w2 + w3\n",
    "y2 = w3 + w4\n",
    "\n",
    "a = w1 + w2\n",
    "a_stopped = tf.stop_gradient(a)   # 令a梯度停止\n",
    "y3 = a_stopped + w3\n",
    "# grad_ys 求梯度的输入之值\n",
    "gradients = tf.gradients([y1, y2], [w1, w2, w3, w4], grad_ys=[tf.convert_to_tensor([1.0, 2.0]), tf.convert_to_tensor([3.0, 4.0])])\n",
    "\n",
    "gradients2 = tf.gradients(y3, [w1, w2, w3], grad_ys=[tf.convert_to_tensor([1.0, 2.0])])\n",
    "#print(gradients2)\n",
    "\n",
    "gradients3 = tf.gradients(y3, [ w3], grad_ys=tf.convert_to_tensor([1.0, 2.0])) \n",
    "\n",
    "with tf.Session() as sess:\n",
    "    sess.run(tf.global_variables_initializer())\n",
    "    #print(gradients)\n",
    "    #print(gradients2)\n",
    "    print(sess.run(gradients3))"
   ]
  },
  {
   "cell_type": "code",
   "execution_count": null,
   "metadata": {},
   "outputs": [],
   "source": []
  }
 ],
 "metadata": {
  "kernelspec": {
   "display_name": "Python 3",
   "language": "python",
   "name": "python3"
  },
  "language_info": {
   "codemirror_mode": {
    "name": "ipython",
    "version": 3
   },
   "file_extension": ".py",
   "mimetype": "text/x-python",
   "name": "python",
   "nbconvert_exporter": "python",
   "pygments_lexer": "ipython3",
   "version": "3.6.5"
  }
 },
 "nbformat": 4,
 "nbformat_minor": 2
}
