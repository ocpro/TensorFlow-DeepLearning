{
 "cells": [
  {
   "cell_type": "markdown",
   "metadata": {},
   "source": [
    "### 实例描述\n",
    "#### 使用BN算法将代码“cifar卷积”中的代码重构，并观察其结果"
   ]
  },
  {
   "cell_type": "code",
   "execution_count": 1,
   "metadata": {},
   "outputs": [],
   "source": [
    "from cifar10 import cifar10_input\n",
    "import tensorflow as tf\n",
    "import numpy as np\n",
    "from tensorflow.contrib.layers.python.layers import batch_norm"
   ]
  },
  {
   "cell_type": "code",
   "execution_count": 3,
   "metadata": {},
   "outputs": [
    {
     "name": "stdout",
     "output_type": "stream",
     "text": [
      "begin\n",
      "begin data\n"
     ]
    }
   ],
   "source": [
    "batch_size = 128\n",
    "print(\"begin\")\n",
    "images_train, labels_train = cifar10_input.inputs(eval_data = False, batch_size = batch_size)\n",
    "images_test, labels_test = cifar10_input.inputs(eval_data = True, batch_size = batch_size)\n",
    "print(\"begin data\")"
   ]
  },
  {
   "cell_type": "code",
   "execution_count": 4,
   "metadata": {},
   "outputs": [],
   "source": [
    "def weight_variable(shape):\n",
    "    initial = tf.truncated_normal(shape, stddev=0.1)\n",
    "    return tf.Variable(initial)\n",
    "\n",
    "def bias_variable(shape):\n",
    "    initial = tf.constant(0.1, shape=shape)\n",
    "    return tf.Variable(initial)\n",
    "  \n",
    "def conv2d(x, W):\n",
    "    return tf.nn.conv2d(x, W, strides=[1, 1, 1, 1], padding='SAME')\n",
    "\n",
    "def max_pool_2x2(x):\n",
    "    return tf.nn.max_pool(x, ksize=[1, 2, 2, 1],\n",
    "                        strides=[1, 2, 2, 1], padding='SAME')  \n",
    "                        \n",
    "def avg_pool_6x6(x):\n",
    "    return tf.nn.avg_pool(x, ksize=[1, 6, 6, 1],\n",
    "                        strides=[1, 6, 6, 1], padding='SAME')"
   ]
  },
  {
   "cell_type": "markdown",
   "metadata": {},
   "source": [
    "#### 1.添加BN函数"
   ]
  },
  {
   "cell_type": "code",
   "execution_count": 5,
   "metadata": {},
   "outputs": [],
   "source": [
    "###################################################\n",
    "def batch_norm_layer(value,train = None, name = 'batch_norm'): \n",
    "    if train is not None:       \n",
    "        return batch_norm(value, decay = 0.9,updates_collections=None, is_training = True)\n",
    "    else:\n",
    "        return batch_norm(value, decay = 0.9,updates_collections=None, is_training = False)\n",
    "###################################################"
   ]
  },
  {
   "cell_type": "markdown",
   "metadata": {},
   "source": [
    "#### 2.为BN函数添加占位符参数"
   ]
  },
  {
   "cell_type": "code",
   "execution_count": 6,
   "metadata": {},
   "outputs": [],
   "source": [
    "## tf Graph Input\n",
    "x = tf.placeholder(tf.float32, [None, 24,24,3]) # cifar data image of shape 24*24*3\n",
    "y = tf.placeholder(tf.float32, [None, 10]) # 0-9 数字=> 10 classes\n",
    "train = tf.placeholder(tf.float32)"
   ]
  },
  {
   "cell_type": "markdown",
   "metadata": {},
   "source": [
    "#### 3.修改网络结构添加BN层"
   ]
  },
  {
   "cell_type": "code",
   "execution_count": 7,
   "metadata": {},
   "outputs": [],
   "source": [
    "W_conv1 = weight_variable([5, 5, 3, 64])\n",
    "b_conv1 = bias_variable([64])\n",
    "\n",
    "x_image = tf.reshape(x, [-1,24,24,3])\n",
    "\n",
    "h_conv1 = tf.nn.relu(batch_norm_layer((conv2d(x_image, W_conv1) + b_conv1),train))\n",
    "h_pool1 = max_pool_2x2(h_conv1)\n",
    "\n",
    "W_conv2 = weight_variable([5, 5, 64, 64])\n",
    "b_conv2 = bias_variable([64])\n",
    "\n",
    "h_conv2 = tf.nn.relu(batch_norm_layer((conv2d(h_pool1, W_conv2) + b_conv2),train))\n",
    "h_pool2 = max_pool_2x2(h_conv2)\n",
    "\n",
    "\n",
    "W_conv3 = weight_variable([5, 5, 64, 10])\n",
    "b_conv3 = bias_variable([10])\n",
    "h_conv3 = tf.nn.relu(conv2d(h_pool2, W_conv3) + b_conv3)\n",
    "\n",
    "nt_hpool3=avg_pool_6x6(h_conv3)#10\n",
    "nt_hpool3_flat = tf.reshape(nt_hpool3, [-1, 10])\n",
    "y_conv=tf.nn.softmax(nt_hpool3_flat)"
   ]
  },
  {
   "cell_type": "markdown",
   "metadata": {},
   "source": [
    "#### 4.加入退化学习率"
   ]
  },
  {
   "cell_type": "code",
   "execution_count": 8,
   "metadata": {},
   "outputs": [],
   "source": [
    "cross_entropy = -tf.reduce_sum(y*tf.log(y_conv))\n",
    "\n",
    "global_step = tf.Variable(0, trainable=False)\n",
    "decaylearning_rate = tf.train.exponential_decay(0.04, global_step,1000, 0.9)\n",
    "\n",
    "train_step = tf.train.AdamOptimizer(decaylearning_rate).minimize(cross_entropy,global_step=global_step)\n",
    "\n",
    "\n",
    "correct_prediction = tf.equal(tf.argmax(y_conv,1), tf.argmax(y,1))\n",
    "accuracy = tf.reduce_mean(tf.cast(correct_prediction, \"float\"))"
   ]
  },
  {
   "cell_type": "code",
   "execution_count": 9,
   "metadata": {},
   "outputs": [
    {
     "name": "stdout",
     "output_type": "stream",
     "text": [
      "step 0, training accuracy 0.140625\n",
      "step 200, training accuracy 0.179688\n",
      "step 400, training accuracy 0.273438\n",
      "step 600, training accuracy 0.351562\n",
      "step 800, training accuracy 0.4375\n",
      "step 1000, training accuracy 0.53125\n",
      "step 1200, training accuracy 0.382812\n",
      "step 1400, training accuracy 0.5\n",
      "step 1600, training accuracy 0.46875\n",
      "step 1800, training accuracy 0.429688\n",
      "step 2000, training accuracy 0.453125\n",
      "step 2200, training accuracy 0.476562\n",
      "step 2400, training accuracy 0.523438\n",
      "step 2600, training accuracy 0.617188\n",
      "step 2800, training accuracy 0.492188\n",
      "step 3000, training accuracy 0.515625\n",
      "step 3200, training accuracy 0.546875\n",
      "step 3400, training accuracy 0.453125\n",
      "step 3600, training accuracy 0.53125\n",
      "step 3800, training accuracy 0.507812\n",
      "step 4000, training accuracy 0.585938\n",
      "step 4200, training accuracy 0.507812\n",
      "step 4400, training accuracy 0.554688\n",
      "step 4600, training accuracy 0.578125\n",
      "step 4800, training accuracy 0.617188\n",
      "step 5000, training accuracy 0.617188\n",
      "step 5200, training accuracy 0.5625\n",
      "step 5400, training accuracy 0.585938\n",
      "step 5600, training accuracy 0.578125\n",
      "step 5800, training accuracy 0.632812\n",
      "step 6000, training accuracy 0.523438\n",
      "step 6200, training accuracy 0.554688\n",
      "step 6400, training accuracy 0.570312\n",
      "step 6600, training accuracy 0.507812\n",
      "step 6800, training accuracy 0.570312\n",
      "step 7000, training accuracy 0.664062\n",
      "step 7200, training accuracy 0.59375\n",
      "step 7400, training accuracy 0.59375\n",
      "step 7600, training accuracy 0.59375\n",
      "step 7800, training accuracy 0.609375\n",
      "step 8000, training accuracy 0.671875\n",
      "step 8200, training accuracy 0.601562\n",
      "step 8400, training accuracy 0.609375\n",
      "step 8600, training accuracy 0.601562\n",
      "step 8800, training accuracy 0.59375\n",
      "step 9000, training accuracy 0.695312\n",
      "step 9200, training accuracy 0.640625\n",
      "step 9400, training accuracy 0.648438\n",
      "step 9600, training accuracy 0.671875\n",
      "step 9800, training accuracy 0.601562\n",
      "step 10000, training accuracy 0.617188\n",
      "step 10200, training accuracy 0.65625\n",
      "step 10400, training accuracy 0.710938\n",
      "step 10600, training accuracy 0.601562\n",
      "step 10800, training accuracy 0.578125\n",
      "step 11000, training accuracy 0.640625\n",
      "step 11200, training accuracy 0.632812\n",
      "step 11400, training accuracy 0.5625\n",
      "step 11600, training accuracy 0.5625\n",
      "step 11800, training accuracy 0.617188\n",
      "step 12000, training accuracy 0.617188\n",
      "step 12200, training accuracy 0.601562\n",
      "step 12400, training accuracy 0.640625\n",
      "step 12600, training accuracy 0.601562\n",
      "step 12800, training accuracy 0.617188\n",
      "step 13000, training accuracy 0.601562\n",
      "step 13200, training accuracy 0.578125\n",
      "step 13400, training accuracy 0.703125\n",
      "step 13600, training accuracy 0.578125\n",
      "step 13800, training accuracy 0.609375\n",
      "step 14000, training accuracy 0.609375\n",
      "step 14200, training accuracy 0.6875\n",
      "step 14400, training accuracy 0.59375\n",
      "step 14600, training accuracy 0.640625\n",
      "step 14800, training accuracy 0.6875\n",
      "step 15000, training accuracy 0.578125\n",
      "step 15200, training accuracy 0.59375\n",
      "step 15400, training accuracy 0.601562\n",
      "step 15600, training accuracy 0.710938\n",
      "step 15800, training accuracy 0.601562\n",
      "step 16000, training accuracy 0.125\n",
      "step 16200, training accuracy 0.171875\n",
      "step 16400, training accuracy 0.0546875\n",
      "step 16600, training accuracy 0.125\n",
      "step 16800, training accuracy 0.125\n",
      "step 17000, training accuracy 0.09375\n",
      "step 17200, training accuracy 0.0859375\n",
      "step 17400, training accuracy 0.0703125\n",
      "step 17600, training accuracy 0.0546875\n",
      "step 17800, training accuracy 0.0859375\n",
      "step 18000, training accuracy 0.101562\n",
      "step 18200, training accuracy 0.171875\n",
      "step 18400, training accuracy 0.140625\n",
      "step 18600, training accuracy 0.101562\n",
      "step 18800, training accuracy 0.109375\n",
      "step 19000, training accuracy 0.117188\n",
      "step 19200, training accuracy 0.140625\n",
      "step 19400, training accuracy 0.109375\n",
      "step 19600, training accuracy 0.117188\n",
      "step 19800, training accuracy 0.09375\n",
      "finished！ test accuracy 0.09375\n"
     ]
    }
   ],
   "source": [
    "sess = tf.Session()\n",
    "sess.run(tf.global_variables_initializer())\n",
    "for i in range(20000):\n",
    "    image_batch, label_batch = sess.run([images_train, labels_train])\n",
    "    label_b = np.eye(10,dtype=float)[label_batch] #one hot\n",
    "  \n",
    "    train_step.run(feed_dict={x:image_batch, y: label_b,train:1},session=sess)\n",
    "  \n",
    "    if i%200 == 0:\n",
    "        train_accuracy = accuracy.eval(feed_dict={x:image_batch, y: label_b},session=sess)\n",
    "        print( \"step %d, training accuracy %g\"%(i, train_accuracy))\n",
    "\n",
    "\n",
    "image_batch, label_batch = sess.run([images_test, labels_test])\n",
    "label_b = np.eye(10,dtype=float)[label_batch]#one hot\n",
    "print (\"finished！ test accuracy %g\"%accuracy.eval(feed_dict={x:image_batch, y: label_b},session=sess))"
   ]
  },
  {
   "cell_type": "code",
   "execution_count": null,
   "metadata": {},
   "outputs": [],
   "source": []
  }
 ],
 "metadata": {
  "kernelspec": {
   "display_name": "Python 3",
   "language": "python",
   "name": "python3"
  },
  "language_info": {
   "codemirror_mode": {
    "name": "ipython",
    "version": 3
   },
   "file_extension": ".py",
   "mimetype": "text/x-python",
   "name": "python",
   "nbconvert_exporter": "python",
   "pygments_lexer": "ipython3",
   "version": "3.6.5"
  }
 },
 "nbformat": 4,
 "nbformat_minor": 2
}
