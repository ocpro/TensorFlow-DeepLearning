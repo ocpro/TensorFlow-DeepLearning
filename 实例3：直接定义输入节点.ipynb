{
 "cells": [
  {
   "cell_type": "code",
   "execution_count": 1,
   "metadata": {
    "collapsed": false
   },
   "outputs": [
    {
     "data": {
      "image/png": "[encoded data removed]",
      "text/plain": [
       "<matplotlib.figure.Figure at 0x234c63710f0>"
      ]
     },
     "metadata": {},
     "output_type": "display_data"
    }
   ],
   "source": [
    "import tensorflow as tf\n",
    "import numpy as np\n",
    "import matplotlib.pyplot as plt\n",
    "\n",
    "\n",
    "\n",
    "\n",
    "#生成模拟数据\n",
    "train_X =np.float32( np.linspace(-1, 1, 100))\n",
    "train_Y = 2 * train_X + np.random.randn(*train_X.shape) * 0.3 # y=2x，但是加入了噪声\n",
    "#图形显示\n",
    "plt.plot(train_X, train_Y, 'ro', label='Original data')\n",
    "plt.legend()\n",
    "plt.show()"
   ]
  },
  {
   "cell_type": "code",
   "execution_count": 2,
   "metadata": {
    "collapsed": false
   },
   "outputs": [
    {
     "name": "stdout",
     "output_type": "stream",
     "text": [
      "Epoch: 1 cost= 0.42459148 W= [0.9449454] b= [0.01104056]\n",
      "Epoch: 3 cost= 0.11369922 W= [1.6813048] b= [0.01269893]\n",
      "Epoch: 5 cost= 0.09341977 W= [1.8693728] b= [0.01272809]\n",
      "Epoch: 7 cost= 0.09209694 W= [1.9174054] b= [0.01272862]\n",
      "Epoch: 9 cost= 0.09201065 W= [1.9296737] b= [0.01272862]\n",
      "Epoch: 11 cost= 0.092005014 W= [1.9328068] b= [0.01272862]\n",
      "Epoch: 13 cost= 0.09200465 W= [1.933607] b= [0.01272862]\n",
      "Epoch: 15 cost= 0.09200463 W= [1.9338111] b= [0.01272863]\n",
      "Epoch: 17 cost= 0.092004634 W= [1.9338622] b= [0.01272863]\n",
      "Epoch: 19 cost= 0.09200463 W= [1.9338727] b= [0.01272863]\n",
      " Finished!\n",
      "cost= 0.09200463 W= [1.9338727] b= [0.01272863]\n"
     ]
    }
   ],
   "source": [
    "# 创建模型\n",
    "\n",
    "# 模型参数\n",
    "W = tf.Variable(tf.random_normal([1]), name=\"weight\")\n",
    "b = tf.Variable(tf.zeros([1]), name=\"bias\")\n",
    "# 前向结构\n",
    "z = tf.multiply(W, train_X)+ b\n",
    "\n",
    "#反向优化\n",
    "cost =tf.reduce_mean( tf.square(train_Y - z))\n",
    "learning_rate = 0.01\n",
    "optimizer = tf.train.GradientDescentOptimizer(learning_rate).minimize(cost) #Gradient descent\n",
    "\n",
    "# 初始化变量\n",
    "init = tf.global_variables_initializer()\n",
    "#参数设置\n",
    "training_epochs = 20\n",
    "display_step = 2\n",
    "\n",
    "# 启动session\n",
    "with tf.Session() as sess:\n",
    "    sess.run(init)\n",
    "\n",
    "    # Fit all training data\n",
    "    for epoch in range(training_epochs):\n",
    "        for (x, y) in zip(train_X, train_Y):\n",
    "            sess.run(optimizer)\n",
    "\n",
    "        #显示训练中的详细信息\n",
    "        if epoch % display_step == 0:\n",
    "            loss = sess.run(cost)\n",
    "            print (\"Epoch:\", epoch+1, \"cost=\", loss,\"W=\", sess.run(W), \"b=\", sess.run(b))\n",
    "\n",
    "\n",
    "    print (\" Finished!\")\n",
    "    print (\"cost=\", sess.run(cost), \"W=\", sess.run(W), \"b=\", sess.run(b))"
   ]
  },
  {
   "cell_type": "code",
   "execution_count": null,
   "metadata": {
    "collapsed": true
   },
   "outputs": [],
   "source": []
  }
 ],
 "metadata": {
  "kernelspec": {
   "display_name": "Python [conda root]",
   "language": "python",
   "name": "conda-root-py"
  },
  "language_info": {
   "codemirror_mode": {
    "name": "ipython",
    "version": 3
   },
   "file_extension": ".py",
   "mimetype": "text/x-python",
   "name": "python",
   "nbconvert_exporter": "python",
   "pygments_lexer": "ipython3",
   "version": "3.5.2"
  }
 },
 "nbformat": 4,
 "nbformat_minor": 1
}
