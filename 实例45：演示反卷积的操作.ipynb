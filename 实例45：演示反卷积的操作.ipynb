{
 "cells": [
  {
   "cell_type": "markdown",
   "metadata": {},
   "source": [
    "### 实例描述\n",
    "#### 通过对模拟数据进行卷积和反卷积的操作，来比较卷积与反卷积中padding在SAME、VALID下的变化"
   ]
  },
  {
   "cell_type": "code",
   "execution_count": 2,
   "metadata": {},
   "outputs": [],
   "source": [
    "import numpy as np\n",
    "import tensorflow as tf"
   ]
  },
  {
   "cell_type": "code",
   "execution_count": 3,
   "metadata": {},
   "outputs": [
    {
     "name": "stdout",
     "output_type": "stream",
     "text": [
      "(1, 2, 2, 1)\n",
      "(1, 2, 2, 1)\n"
     ]
    }
   ],
   "source": [
    "# 模拟数据\n",
    "img = tf.Variable(tf.constant(1.0, shape=[1, 4, 4, 1]))\n",
    "\n",
    "filter = tf.Variable(tf.constant([1.0, 0, -1, -2], shape=[2, 2, 1, 1]))\n",
    "# 分别对VALID与SAME操作\n",
    "conv = tf.nn.conv2d(img, filter, strides=[1, 2, 2, 1], padding='VALID')\n",
    "cons = tf.nn.conv2d(img, filter, strides=[1, 2, 2, 1], padding='SAME')\n",
    "print(conv.shape)\n",
    "print(cons.shape)\n",
    "\n",
    "# 再进行反卷积\n",
    "contv = tf.nn.conv2d_transpose(conv, filter, [1, 4, 4, 1], strides=[1, 2, 2, 1], padding='VALID')\n",
    "conts = tf.nn.conv2d_transpose(cons, filter, [1, 4, 4, 1], strides=[1, 2, 2, 1], padding='SAME')"
   ]
  },
  {
   "cell_type": "code",
   "execution_count": 6,
   "metadata": {},
   "outputs": [
    {
     "name": "stdout",
     "output_type": "stream",
     "text": [
      "conv\"\n",
      " [array([[[[-2.],\n",
      "         [-2.]],\n",
      "\n",
      "        [[-2.],\n",
      "         [-2.]]]], dtype=float32), array([[[[ 1.]],\n",
      "\n",
      "        [[ 0.]]],\n",
      "\n",
      "\n",
      "       [[[-1.]],\n",
      "\n",
      "        [[-2.]]]], dtype=float32)]\n",
      "cons\"\n",
      " [array([[[[-2.],\n",
      "         [-2.]],\n",
      "\n",
      "        [[-2.],\n",
      "         [-2.]]]], dtype=float32)]\n",
      "contv\"\n",
      " [array([[[[-2.],\n",
      "         [ 0.],\n",
      "         [-2.],\n",
      "         [ 0.]],\n",
      "\n",
      "        [[ 2.],\n",
      "         [ 4.],\n",
      "         [ 2.],\n",
      "         [ 4.]],\n",
      "\n",
      "        [[-2.],\n",
      "         [ 0.],\n",
      "         [-2.],\n",
      "         [ 0.]],\n",
      "\n",
      "        [[ 2.],\n",
      "         [ 4.],\n",
      "         [ 2.],\n",
      "         [ 4.]]]], dtype=float32)]\n",
      "conts\"\n",
      " [array([[[[-2.],\n",
      "         [ 0.],\n",
      "         [-2.],\n",
      "         [ 0.]],\n",
      "\n",
      "        [[ 2.],\n",
      "         [ 4.],\n",
      "         [ 2.],\n",
      "         [ 4.]],\n",
      "\n",
      "        [[-2.],\n",
      "         [ 0.],\n",
      "         [-2.],\n",
      "         [ 0.]],\n",
      "\n",
      "        [[ 2.],\n",
      "         [ 4.],\n",
      "         [ 2.],\n",
      "         [ 4.]]]], dtype=float32)]\n"
     ]
    }
   ],
   "source": [
    "with tf.Session() as sess:\n",
    "    sess.run(tf.global_variables_initializer())\n",
    "    \n",
    "    print('conv\"\\n', sess.run([conv, filter]))\n",
    "    print('cons\"\\n', sess.run([cons]))\n",
    "    print('contv\"\\n', sess.run([contv]))\n",
    "    print('conts\"\\n', sess.run([conts]))"
   ]
  },
  {
   "cell_type": "code",
   "execution_count": null,
   "metadata": {},
   "outputs": [],
   "source": []
  }
 ],
 "metadata": {
  "kernelspec": {
   "display_name": "Python 3",
   "language": "python",
   "name": "python3"
  },
  "language_info": {
   "codemirror_mode": {
    "name": "ipython",
    "version": 3
   },
   "file_extension": ".py",
   "mimetype": "text/x-python",
   "name": "python",
   "nbconvert_exporter": "python",
   "pygments_lexer": "ipython3",
   "version": "3.6.5"
  }
 },
 "nbformat": 4,
 "nbformat_minor": 2
}
