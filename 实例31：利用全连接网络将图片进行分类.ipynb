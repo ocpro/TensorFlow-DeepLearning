{
 "cells": [
  {
   "cell_type": "code",
   "execution_count": 5,
   "metadata": {
    "collapsed": false
   },
   "outputs": [
    {
     "name": "stdout",
     "output_type": "stream",
     "text": [
      "Extracting MNIST_data/train-images-idx3-ubyte.gz\n",
      "Extracting MNIST_data/train-labels-idx1-ubyte.gz\n",
      "Extracting MNIST_data/t10k-images-idx3-ubyte.gz\n",
      "Extracting MNIST_data/t10k-labels-idx1-ubyte.gz\n"
     ]
    }
   ],
   "source": [
    "import tensorflow as tf\n",
    "# 导入 MINST 数据集\n",
    "from tensorflow.examples.tutorials.mnist import input_data\n",
    "mnist = input_data.read_data_sets(\"MNIST_data/\", one_hot=True)"
   ]
  },
  {
   "cell_type": "code",
   "execution_count": 12,
   "metadata": {
    "collapsed": true
   },
   "outputs": [],
   "source": [
    "# 1.定义网络参数\n",
    "# 定义参数\n",
    "learning_rate = 0.001\n",
    "training_epochs = 25\n",
    "batch_size = 100\n",
    "display_step = 1\n",
    "\n",
    "# 设置网络模型参数\n",
    "n_hidden_1 = 256      # 第一个隐藏层节点个数\n",
    "n_hidden_2 = 256      # 第二个隐藏层节点个数\n",
    "n_input = 784         # MNIST共784(28*28维)\n",
    "n_classes = 10        # MNIST共10个类别(0-9)"
   ]
  },
  {
   "cell_type": "code",
   "execution_count": 13,
   "metadata": {
    "collapsed": false
   },
   "outputs": [
    {
     "name": "stdout",
     "output_type": "stream",
     "text": [
      "WARNING:tensorflow:From <ipython-input-13-ecd43770e787>:33: softmax_cross_entropy_with_logits (from tensorflow.python.ops.nn_ops) is deprecated and will be removed in a future version.\n",
      "Instructions for updating:\n",
      "\n",
      "Future major versions of TensorFlow will allow gradients to flow\n",
      "into the labels input on backprop by default.\n",
      "\n",
      "See tf.nn.softmax_cross_entropy_with_logits_v2.\n",
      "\n"
     ]
    }
   ],
   "source": [
    "# 2.定义网络结构\n",
    "x = tf.placeholder(\"float\", [None, n_input])\n",
    "y = tf.placeholder(\"float\", [None, n_classes])\n",
    "\n",
    "# 创建model\n",
    "def multilayer_perceptron(x, weights, biases):\n",
    "    # 第一层隐藏层\n",
    "    layer_1 = tf.add(tf.matmul(x, weights['h1']), biases['b1'])\n",
    "    layer_1 = tf.nn.relu(layer_1 )\n",
    "    # 第二次隐藏层\n",
    "    layer_2 = tf.add(tf.matmul(layer_1, weights['h2']), biases['b2'])\n",
    "    layer_2 = tf.nn.relu(layer_2)\n",
    "    # 输出层\n",
    "    out_layer = tf.matmul(layer_2, weights['out']) + biases['out']\n",
    "    return out_layer\n",
    "\n",
    "# 学习参数\n",
    "weights = {\n",
    "    'h1':tf.Variable(tf.random_normal([n_input,n_hidden_1])),\n",
    "    'h2':tf.Variable(tf.random_normal([n_hidden_1,n_hidden_2])),\n",
    "    'out':tf.Variable(tf.random_normal([n_hidden_2, n_classes]))\n",
    "}\n",
    "biases = {\n",
    "    'b1':tf.Variable(tf.random_normal([n_hidden_1])),\n",
    "    'b2':tf.Variable(tf.random_normal([n_hidden_2])),\n",
    "    'out':tf.Variable(tf.random_normal([n_classes]))\n",
    "}\n",
    "\n",
    "# 输出值\n",
    "pred = multilayer_perceptron(x, weights, biases)\n",
    "\n",
    "# 定义loss和优化器\n",
    "cost = tf.reduce_mean(tf.nn.softmax_cross_entropy_with_logits(logits=pred, labels=y))\n",
    "optimizer = tf.train.AdamOptimizer(learning_rate=learning_rate).minimize(cost)"
   ]
  },
  {
   "cell_type": "code",
   "execution_count": 14,
   "metadata": {
    "collapsed": false
   },
   "outputs": [
    {
     "name": "stdout",
     "output_type": "stream",
     "text": [
      "Epoch: 0001 cost= 202.483074698\n",
      "Epoch: 0002 cost= 44.622567448\n",
      "Epoch: 0003 cost= 27.919880796\n",
      "Epoch: 0004 cost= 19.355742301\n",
      "Epoch: 0005 cost= 14.267407512\n",
      "Epoch: 0006 cost= 10.481253212\n",
      "Epoch: 0007 cost= 7.913360469\n",
      "Epoch: 0008 cost= 5.950012846\n",
      "Epoch: 0009 cost= 4.468212040\n",
      "Epoch: 0010 cost= 3.349973412\n",
      "Epoch: 0011 cost= 2.473477263\n",
      "Epoch: 0012 cost= 1.794160820\n",
      "Epoch: 0013 cost= 1.464416156\n",
      "Epoch: 0014 cost= 1.088733453\n",
      "Epoch: 0015 cost= 0.939311033\n",
      "Epoch: 0016 cost= 0.806078416\n",
      "Epoch: 0017 cost= 0.702251304\n",
      "Epoch: 0018 cost= 0.511980822\n",
      "Epoch: 0019 cost= 0.494432628\n",
      "Epoch: 0020 cost= 0.490099861\n",
      "Epoch: 0021 cost= 0.463167819\n",
      "Epoch: 0022 cost= 0.376782445\n",
      "Epoch: 0023 cost= 0.427504371\n",
      "Epoch: 0024 cost= 0.402092141\n",
      "Epoch: 0025 cost= 0.367421902\n",
      "Finished!\n",
      "WARNING:tensorflow:From <ipython-input-14-efa8f0fe31fe>:22: arg_max (from tensorflow.python.ops.gen_math_ops) is deprecated and will be removed in a future version.\n",
      "Instructions for updating:\n",
      "Use `argmax` instead\n",
      "Accuracy: 0.9567\n"
     ]
    }
   ],
   "source": [
    "# 3.启动session\n",
    "with tf.Session() as sess:\n",
    "    sess.run(tf.global_variables_initializer())\n",
    "    \n",
    "    # 启动循环开始训练\n",
    "    for epoch in range(training_epochs):\n",
    "        avg_cost = 0\n",
    "        total_batch = int(mnist.train.num_examples/batch_size)\n",
    "        # 循环所有数据集\n",
    "        for i in range(total_batch):\n",
    "            batch_xs, batch_ys = mnist.train.next_batch(batch_size)\n",
    "            # 运行优化器\n",
    "            _, c = sess.run([optimizer, cost], feed_dict={x:batch_xs, y:batch_ys})\n",
    "            # 计算平均loss值\n",
    "            avg_cost += c/total_batch\n",
    "        # 显示训练中的详细信息\n",
    "        if (epoch+1) % display_step == 0:\n",
    "            print(\"Epoch:\", \"%04d\" % (epoch+1), \"cost=\", \"{:.9f}\".format(avg_cost))\n",
    "    print(\"Finished!\")\n",
    "    \n",
    "# 测试model\n",
    "    correct_prediction = tf.equal(tf.arg_max(pred,1), tf.arg_max(y,1))\n",
    "    # 计算准确度\n",
    "    accuracy = tf.reduce_mean(tf.cast(correct_prediction, tf.float32))\n",
    "    print (\"Accuracy:\", accuracy.eval({x: mnist.test.images, y: mnist.test.labels}))"
   ]
  },
  {
   "cell_type": "code",
   "execution_count": null,
   "metadata": {
    "collapsed": true
   },
   "outputs": [],
   "source": []
  }
 ],
 "metadata": {
  "anaconda-cloud": {},
  "kernelspec": {
   "display_name": "Python [conda root]",
   "language": "python",
   "name": "conda-root-py"
  },
  "language_info": {
   "codemirror_mode": {
    "name": "ipython",
    "version": 3
   },
   "file_extension": ".py",
   "mimetype": "text/x-python",
   "name": "python",
   "nbconvert_exporter": "python",
   "pygments_lexer": "ipython3",
   "version": "3.5.2"
  }
 },
 "nbformat": 4,
 "nbformat_minor": 1
}
