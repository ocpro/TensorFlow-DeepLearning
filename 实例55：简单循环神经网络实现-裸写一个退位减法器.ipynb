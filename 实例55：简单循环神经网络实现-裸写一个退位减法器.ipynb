{
 "cells": [
  {
   "cell_type": "markdown",
   "metadata": {},
   "source": [
    "#### 实例描述\n",
    "##### 使用Python编写简单循环神经网络拟合一个退位减法的操作，观察其反向传播过程"
   ]
  },
  {
   "cell_type": "markdown",
   "metadata": {},
   "source": [
    "#### 1.定义基本函数"
   ]
  },
  {
   "cell_type": "code",
   "execution_count": 1,
   "metadata": {},
   "outputs": [],
   "source": [
    "import copy, numpy as np\n",
    "np.random.seed(0)   # 固定随机数生成器的种子，可以每次得到一样的值\n",
    "def sigmoid(x):          # 激活函数\n",
    "    output = 1/(1+np.exp(-x))\n",
    "    return output\n",
    "\n",
    "def sigmoid_output_to_derivative(output):     # 激活函数的导数\n",
    "    return output*(1-output)"
   ]
  },
  {
   "cell_type": "markdown",
   "metadata": {},
   "source": [
    "#### 2.建立二进制映射"
   ]
  },
  {
   "cell_type": "code",
   "execution_count": 2,
   "metadata": {},
   "outputs": [],
   "source": [
    "int2binary = {}    # 整数到其二进制表示的映射\n",
    "binary_dim = 8    # 暂时制作256以内的减法\n",
    "## 计算0-256的二进制表示\n",
    "largest_number = pow(2, binary_dim)\n",
    "# unpackbits函数可以把整数转化成2进制数\n",
    "binary = np.unpackbits(np.array([range(largest_number)], dtype = np.uint8).T, axis = 1)\n",
    "for i in range(largest_number):\n",
    "    int2binary[i] = binary[i]"
   ]
  },
  {
   "cell_type": "markdown",
   "metadata": {},
   "source": [
    "#### 3.定义参数"
   ]
  },
  {
   "cell_type": "code",
   "execution_count": 3,
   "metadata": {},
   "outputs": [],
   "source": [
    "# 参数设置\n",
    "alpha = 0.9                   # 学习速率\n",
    "input_dim = 2              # 输入的维度是2，减数和被减数\n",
    "hidden_dim = 16\n",
    "output_dim = 1           # 输出维度为1\n",
    "\n",
    "#  初始化网络\n",
    "synapse_0 = (2*np.random.random((input_dim, hidden_dim)) - 1) * 0.05\n",
    "                                                        # 维度为2*16， 2 是输入维度， 16是隐藏层维度\n",
    "synapse_1 = (2*np.random.random((hidden_dim, output_dim)) - 1) * 0.05\n",
    "synapse_h = (2*np.random.random((hidden_dim, hidden_dim)) - 1) * 0.05\n",
    "# => [-0.05, 0.05]\n",
    "\n",
    "# 用于存放反向传播的权重更新值\n",
    "synapse_0_update = np.zeros_like(synapse_0)\n",
    "synapse_1_update = np.zeros_like(synapse_1)\n",
    "synapse_h_update = np.zeros_like(synapse_h)"
   ]
  },
  {
   "cell_type": "markdown",
   "metadata": {},
   "source": [
    "#### 4.准备样本数据"
   ]
  },
  {
   "cell_type": "markdown",
   "metadata": {},
   "source": [
    "#### 5.模型初始化 "
   ]
  },
  {
   "cell_type": "markdown",
   "metadata": {},
   "source": [
    "#### 6.正向传播"
   ]
  },
  {
   "cell_type": "markdown",
   "metadata": {},
   "source": [
    "#### 7.反向训练"
   ]
  },
  {
   "cell_type": "markdown",
   "metadata": {},
   "source": [
    "#### 8.输出结果"
   ]
  },
  {
   "cell_type": "code",
   "execution_count": 8,
   "metadata": {},
   "outputs": [
    {
     "name": "stdout",
     "output_type": "stream",
     "text": [
      "总误差:[4.00701361]\n",
      "Pred:[0 0 0 0 0 0 0 0]\n",
      "True:[0 0 1 1 1 0 1 1]\n",
      "77 - 18 = 0\n",
      "------------\n",
      "总误差:[3.67783151]\n",
      "Pred:[1 1 1 1 0 1 1 0]\n",
      "True:[1 0 0 1 0 0 1 0]\n",
      "246 - 100 = 246\n",
      "------------\n",
      "总误差:[2.63435584]\n",
      "Pred:[0 0 0 0 1 1 1 0]\n",
      "True:[0 0 0 0 0 1 1 0]\n",
      "129 - 123 = 14\n",
      "------------\n",
      "总误差:[0.6232386]\n",
      "Pred:[1 1 0 1 0 1 1 1]\n",
      "True:[1 1 0 1 0 1 1 1]\n",
      "246 - 31 = 215\n",
      "------------\n",
      "总误差:[0.13597239]\n",
      "Pred:[0 0 1 1 0 0 1 0]\n",
      "True:[0 0 1 1 0 0 1 0]\n",
      "60 - 10 = 50\n",
      "------------\n",
      "总误差:[0.2364547]\n",
      "Pred:[0 0 1 1 1 0 1 1]\n",
      "True:[0 0 1 1 1 0 1 1]\n",
      "100 - 41 = 59\n",
      "------------\n",
      "总误差:[0.08293627]\n",
      "Pred:[0 0 0 1 0 0 0 1]\n",
      "True:[0 0 0 1 0 0 0 1]\n",
      "81 - 64 = 17\n",
      "------------\n",
      "总误差:[0.17860524]\n",
      "Pred:[0 1 0 0 0 1 1 1]\n",
      "True:[0 1 0 0 0 1 1 1]\n",
      "136 - 65 = 71\n",
      "------------\n",
      "总误差:[0.09780628]\n",
      "Pred:[1 0 0 1 1 0 1 1]\n",
      "True:[1 0 0 1 1 0 1 1]\n",
      "239 - 84 = 155\n",
      "------------\n",
      "总误差:[0.16966862]\n",
      "Pred:[0 1 0 1 1 0 0 1]\n",
      "True:[0 1 0 1 1 0 0 1]\n",
      "211 - 122 = 89\n",
      "------------\n",
      "总误差:[0.05111776]\n",
      "Pred:[1 0 0 1 0 0 0 0]\n",
      "True:[1 0 0 1 0 0 0 0]\n",
      "187 - 43 = 144\n",
      "------------\n",
      "总误差:[0.04255354]\n",
      "Pred:[0 0 1 0 0 0 0 0]\n",
      "True:[0 0 1 0 0 0 0 0]\n",
      "47 - 15 = 32\n",
      "------------\n",
      "总误差:[0.09618636]\n",
      "Pred:[0 1 1 0 1 1 0 1]\n",
      "True:[0 1 1 0 1 1 0 1]\n",
      "123 - 14 = 109\n",
      "------------\n"
     ]
    }
   ],
   "source": [
    "for j in range(10000):\n",
    "    \n",
    "    #生成一个数字a\n",
    "    a_int = np.random.randint(largest_number) \n",
    "    #生成一个数字b,b的最大值取的是largest_number/2,作为被减数，让它小一点。\n",
    "    b_int = np.random.randint(largest_number/2) \n",
    "    #如果生成的b大了，那么交换一下\n",
    "    if a_int<b_int:\n",
    "        tt = b_int\n",
    "        b_int = a_int\n",
    "        a_int=tt\n",
    "    \n",
    "    a = int2binary[a_int] # binary encoding\n",
    "    b = int2binary[b_int] # binary encoding    \n",
    "    # true answer\n",
    "    c_int = a_int - b_int\n",
    "    c = int2binary[c_int]\n",
    "    \n",
    "    # 存储神经网络的预测值\n",
    "    d = np.zeros_like(c)\n",
    "    overallError = 0 #每次把总误差清零\n",
    "    \n",
    "    layer_2_deltas = list() #存储每个时间点输出层的误差\n",
    "    layer_1_values = list() #存储每个时间点隐藏层的值\n",
    "    \n",
    "    layer_1_values.append(np.ones(hidden_dim)*0.1) # 一开始没有隐藏层，所以初始化一下原始值为0.1\n",
    "    \n",
    "    # moving along the positions in the binary encoding\n",
    "    for position in range(binary_dim):#循环遍历每一个二进制位\n",
    "        \n",
    "        # generate input and output\n",
    "        X = np.array([[a[binary_dim - position - 1],b[binary_dim - position - 1]]])#从右到左，每次去两个输入数字的一个bit位\n",
    "        y = np.array([[c[binary_dim - position - 1]]]).T#正确答案\n",
    "        # hidden layer (input ~+ prev_hidden)\n",
    "        layer_1 = sigmoid(np.dot(X,synapse_0) + np.dot(layer_1_values[-1],synapse_h))#（输入层 + 之前的隐藏层） -> 新的隐藏层，这是体现循环神经网络的最核心的地方！！！\n",
    "        # output layer (new binary representation)\n",
    "        layer_2 = sigmoid(np.dot(layer_1,synapse_1)) #隐藏层 * 隐藏层到输出层的转化矩阵synapse_1 -> 输出层\n",
    "        \n",
    "        layer_2_error = y - layer_2 #预测误差\n",
    "        layer_2_deltas.append((layer_2_error)*sigmoid_output_to_derivative(layer_2)) #把每一个时间点的误差导数都记录下来\n",
    "        overallError += np.abs(layer_2_error[0])#总误差\n",
    "    \n",
    "        d[binary_dim - position - 1] = np.round(layer_2[0][0]) #记录下每一个预测bit位\n",
    "        \n",
    "        # store hidden layer so we can use it in the next timestep\n",
    "        layer_1_values.append(copy.deepcopy(layer_1))#记录下隐藏层的值，在下一个时间点用\n",
    "    \n",
    "    future_layer_1_delta = np.zeros(hidden_dim)\n",
    "    \n",
    "    #反向传播，从最后一个时间点到第一个时间点\n",
    "    for position in range(binary_dim):\n",
    "        \n",
    "        X = np.array([[a[position],b[position]]]) #最后一次的两个输入\n",
    "        layer_1 = layer_1_values[-position-1] #当前时间点的隐藏层\n",
    "        prev_layer_1 = layer_1_values[-position-2] #前一个时间点的隐藏层\n",
    "        \n",
    "        # error at output layer\n",
    "        layer_2_delta = layer_2_deltas[-position-1] #当前时间点输出层导数\n",
    "        # error at hidden layer\n",
    "        # 通过后一个时间点（因为是反向传播）的隐藏层误差和当前时间点的输出层误差，计算当前时间点的隐藏层误差\n",
    "        layer_1_delta = (future_layer_1_delta.dot(synapse_h.T) + layer_2_delta.dot(synapse_1.T)) * sigmoid_output_to_derivative(layer_1)\n",
    "        \n",
    "        \n",
    "       # 等到完成了所有反向传播误差计算， 才会更新权重矩阵，先暂时把更新矩阵存起来。\n",
    "        synapse_1_update += np.atleast_2d(layer_1).T.dot(layer_2_delta)\n",
    "        synapse_h_update += np.atleast_2d(prev_layer_1).T.dot(layer_1_delta)\n",
    "        synapse_0_update += X.T.dot(layer_1_delta)\n",
    "        \n",
    "        future_layer_1_delta = layer_1_delta\n",
    "    \n",
    "    # 完成所有反向传播之后，更新权重矩阵。并把矩阵变量清零\n",
    "    synapse_0 += synapse_0_update * alpha\n",
    "    synapse_1 += synapse_1_update * alpha\n",
    "    synapse_h += synapse_h_update * alpha\n",
    "    synapse_0_update *= 0\n",
    "    synapse_1_update *= 0\n",
    "    synapse_h_update *= 0\n",
    "   \n",
    "    # print out progress\n",
    "    if(j % 800 == 0):\n",
    "        #print(synapse_0,synapse_h,synapse_1)\n",
    "        print(\"总误差:\" + str(overallError))\n",
    "        print(\"Pred:\" + str(d))\n",
    "        print(\"True:\" + str(c))\n",
    "        out = 0\n",
    "        for index,x in enumerate(reversed(d)):\n",
    "            out += x*pow(2,index)\n",
    "        print(str(a_int) + \" - \" + str(b_int) + \" = \" + str(out))\n",
    "        print(\"------------\")"
   ]
  },
  {
   "cell_type": "code",
   "execution_count": null,
   "metadata": {},
   "outputs": [],
   "source": []
  }
 ],
 "metadata": {
  "kernelspec": {
   "display_name": "Python 3",
   "language": "python",
   "name": "python3"
  },
  "language_info": {
   "codemirror_mode": {
    "name": "ipython",
    "version": 3
   },
   "file_extension": ".py",
   "mimetype": "text/x-python",
   "name": "python",
   "nbconvert_exporter": "python",
   "pygments_lexer": "ipython3",
   "version": "3.7.4"
  }
 },
 "nbformat": 4,
 "nbformat_minor": 2
}
