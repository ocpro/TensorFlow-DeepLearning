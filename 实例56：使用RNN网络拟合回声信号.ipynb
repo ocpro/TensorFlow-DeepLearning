{
  "nbformat": 4,
  "nbformat_minor": 0,
  "metadata": {
    "colab": {
      "name": "实例56：使用RNN网络拟合回声信号.ipynb",
      "version": "0.3.2",
      "provenance": [],
      "include_colab_link": true
    },
    "kernelspec": {
      "name": "python3",
      "display_name": "Python 3"
    },
    "accelerator": "GPU"
  },
  "cells": [
    {
      "cell_type": "markdown",
      "metadata": {
        "id": "view-in-github",
        "colab_type": "text"
      },
      "source": [
        "<a href=\"https://colab.research.google.com/github/ocpro/TensorFlow_DeepLearning/blob/master/%E5%AE%9E%E4%BE%8B56%EF%BC%9A%E4%BD%BF%E7%94%A8RNN%E7%BD%91%E7%BB%9C%E6%8B%9F%E5%90%88%E5%9B%9E%E5%A3%B0%E4%BF%A1%E5%8F%B7.ipynb\" target=\"_parent\"><img src=\"https://colab.research.google.com/assets/colab-badge.svg\" alt=\"Open In Colab\"/></a>"
      ]
    },
    {
      "cell_type": "markdown",
      "metadata": {
        "id": "PPJuKgkWs9To",
        "colab_type": "text"
      },
      "source": [
        "### 实例描述\n",
        "#### 构建一组序列，生成其对应的模拟回声序列。使用TensorFlow创建一个简单循环神经网络拟合这个回声序列"
      ]
    },
    {
      "cell_type": "code",
      "metadata": {
        "id": "hYmWPYDytkUV",
        "colab_type": "code",
        "colab": {}
      },
      "source": [
        ""
      ],
      "execution_count": 0,
      "outputs": []
    }
  ]
}