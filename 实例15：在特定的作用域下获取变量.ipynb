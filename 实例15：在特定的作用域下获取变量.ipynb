{
 "cells": [
  {
   "cell_type": "code",
   "execution_count": 6,
   "metadata": {
    "collapsed": false
   },
   "outputs": [
    {
     "name": "stdout",
     "output_type": "stream",
     "text": [
      "var1: test1/firstscope:0\n",
      "var2: test2/firstscope:0\n"
     ]
    }
   ],
   "source": [
    "import tensorflow as tf\n",
    "# 定义一个作用域\n",
    "with tf.variable_scope('test1'):\n",
    "    var1 = tf.get_variable('firstscope', shape=[2], dtype=tf.float32)\n",
    "with tf.variable_scope('test2'):\n",
    "    var2 = tf.get_variable('firstscope', shape=[2], dtype=tf.float32)\n",
    "print('var1:',var1.name)\n",
    "print('var2:',var2.name)"
   ]
  },
  {
   "cell_type": "code",
   "execution_count": 1,
   "metadata": {
    "collapsed": false
   },
   "outputs": [
    {
     "name": "stdout",
     "output_type": "stream",
     "text": [
      "var1: test1/firstscope:0\n",
      "var2: test1/test2/firstscope:0\n"
     ]
    }
   ],
   "source": [
    "import tensorflow as tf\n",
    "# scope还支持嵌套\n",
    "with tf.variable_scope('test1'):\n",
    "    var1 = tf.get_variable('firstscope', shape=[2], dtype=tf.float32)\n",
    "    with tf.variable_scope('test2'):\n",
    "        var2 = tf.get_variable('firstscope', shape=[2], dtype=tf.float32)\n",
    "print('var1:',var1.name)\n",
    "print('var2:',var2.name)"
   ]
  },
  {
   "cell_type": "code",
   "execution_count": null,
   "metadata": {
    "collapsed": true
   },
   "outputs": [],
   "source": []
  }
 ],
 "metadata": {
  "kernelspec": {
   "display_name": "Python [conda root]",
   "language": "python",
   "name": "conda-root-py"
  },
  "language_info": {
   "codemirror_mode": {
    "name": "ipython",
    "version": 3
   },
   "file_extension": ".py",
   "mimetype": "text/x-python",
   "name": "python",
   "nbconvert_exporter": "python",
   "pygments_lexer": "ipython3",
   "version": "3.5.2"
  }
 },
 "nbformat": 4,
 "nbformat_minor": 1
}
