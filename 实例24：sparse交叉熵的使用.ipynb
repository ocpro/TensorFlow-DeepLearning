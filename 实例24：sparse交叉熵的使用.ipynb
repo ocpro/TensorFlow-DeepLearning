{
 "cells": [
  {
   "cell_type": "code",
   "execution_count": 2,
   "metadata": {
    "collapsed": false
   },
   "outputs": [
    {
     "name": "stdout",
     "output_type": "stream",
     "text": [
      "rel1= [0.02215516 3.0996735 ]\n",
      "rel5= [0.02215516 3.0996735 ]\n"
     ]
    }
   ],
   "source": [
    "import tensorflow as tf\n",
    "\n",
    "labels = [[0, 0, 1], [0, 1, 0]]\n",
    "logits = [[2, 0.5, 6], [0.1, 0, 3]]\n",
    "result1 = tf.nn.softmax_cross_entropy_with_logits(labels=labels, logits=logits)\n",
    "\n",
    "# sparse标签\n",
    "# 表明labels中总共分为3个类：0,1,2。[2,1]等价于onehot编码中的001和010\n",
    "labels5 = [2, 1]\n",
    "result5 = tf.nn.sparse_softmax_cross_entropy_with_logits(labels=labels5, logits=logits)\n",
    "\n",
    "with tf.Session() as sess:\n",
    "    print(\"rel1=\", sess.run(result1))\n",
    "    print(\"rel5=\", sess.run(result5))"
   ]
  },
  {
   "cell_type": "code",
   "execution_count": null,
   "metadata": {
    "collapsed": true
   },
   "outputs": [],
   "source": []
  }
 ],
 "metadata": {
  "kernelspec": {
   "display_name": "Python [conda root]",
   "language": "python",
   "name": "conda-root-py"
  },
  "language_info": {
   "codemirror_mode": {
    "name": "ipython",
    "version": 3
   },
   "file_extension": ".py",
   "mimetype": "text/x-python",
   "name": "python",
   "nbconvert_exporter": "python",
   "pygments_lexer": "ipython3",
   "version": "3.5.2"
  }
 },
 "nbformat": 4,
 "nbformat_minor": 1
}
