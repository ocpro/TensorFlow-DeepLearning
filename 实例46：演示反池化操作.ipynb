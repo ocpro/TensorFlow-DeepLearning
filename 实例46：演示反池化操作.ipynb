{
 "cells": [
  {
   "cell_type": "markdown",
   "metadata": {},
   "source": [
    "### 实例描述\n",
    "#### 定义一个数组作为模拟图片，将其进行最大池化，接着在进行反池化，比较原始数据与反池化后的数据"
   ]
  },
  {
   "cell_type": "code",
   "execution_count": 1,
   "metadata": {},
   "outputs": [],
   "source": [
    "import tensorflow as tf"
   ]
  },
  {
   "cell_type": "code",
   "execution_count": 2,
   "metadata": {},
   "outputs": [],
   "source": [
    "def max_pool_with_argmax(net, stride):\n",
    "    _, mask = tf.nn.max_pool_with_argmax(net, ksize=[1, stride, stride, 1], strides=[1, stride, stride, 1], padding='SAME')\n",
    "    mask = tf.stop_gradient(mask)\n",
    "    net = tf.nn.max_pool(net, ksize=[1, stride, stride, 1], strides=[1, stride, stride, 1], padding='SAME')\n",
    "    return net, mask"
   ]
  },
  {
   "cell_type": "code",
   "execution_count": 3,
   "metadata": {},
   "outputs": [
    {
     "name": "stdout",
     "output_type": "stream",
     "text": [
      "image:\n",
      "[[[[0. 4.]\n",
      "   [0. 4.]\n",
      "   [0. 4.]\n",
      "   [0. 4.]]\n",
      "\n",
      "  [[1. 5.]\n",
      "   [1. 5.]\n",
      "   [1. 5.]\n",
      "   [1. 5.]]\n",
      "\n",
      "  [[2. 6.]\n",
      "   [2. 6.]\n",
      "   [2. 6.]\n",
      "   [2. 6.]]\n",
      "\n",
      "  [[2. 6.]\n",
      "   [2. 6.]\n",
      "   [2. 6.]\n",
      "   [2. 6.]]]]\n",
      "pooling2:\n",
      " [[[[1. 5.]\n",
      "   [1. 5.]]\n",
      "\n",
      "  [[2. 6.]\n",
      "   [2. 6.]]]]\n",
      "encode:\n",
      " [[[[1. 5.]\n",
      "   [1. 5.]]\n",
      "\n",
      "  [[2. 6.]\n",
      "   [2. 6.]]]] [[[[ 8  9]\n",
      "   [12 13]]\n",
      "\n",
      "  [[16 17]\n",
      "   [20 21]]]]\n"
     ]
    }
   ],
   "source": [
    "img = tf.constant([\n",
    "    [[0.0, 4.0], [0.0, 4.0], [0.0, 4.0], [0.0, 4.0]],\n",
    "     [[1.0, 5.0], [1.0, 5.0], [1.0, 5.0], [1.0, 5.0]],\n",
    "     [[2.0, 6.0], [2.0, 6.0], [2.0, 6.0], [2.0, 6.0]],\n",
    "     [[2.0, 6.0], [2.0, 6.0], [2.0, 6.0], [2.0, 6.0]]\n",
    "])\n",
    "img = tf.reshape(img, [1, 4 ,4, 2])\n",
    "pooling2 = tf.nn.max_pool(img, [1, 2, 2, 1], [1, 2, 2, 1], padding='SAME')\n",
    "encode, mask = max_pool_with_argmax(img,  2)\n",
    "with tf.Session() as sess:\n",
    "    print('image:')\n",
    "    image = sess.run(img)\n",
    "    print(image)\n",
    "    result = sess.run(pooling2)\n",
    "    print('pooling2:\\n', result)\n",
    "    result, mask2 = sess.run([encode, mask])\n",
    "    print('encode:\\n', result, mask2)"
   ]
  },
  {
   "cell_type": "markdown",
   "metadata": {},
   "source": [
    "#### 反池化操作"
   ]
  },
  {
   "cell_type": "code",
   "execution_count": 5,
   "metadata": {},
   "outputs": [],
   "source": [
    "def unpool(net, mask, stride):\n",
    "\n",
    "    ksize = [1, stride, stride, 1]\n",
    "    input_shape = net.get_shape().as_list()\n",
    "    #  calculation new shape\n",
    "    output_shape = (input_shape[0], input_shape[1] * ksize[1], input_shape[2] * ksize[2], input_shape[3])\n",
    "    # calculation indices for batch, height, width and feature maps\n",
    "    one_like_mask = tf.ones_like(mask)\n",
    "    batch_range = tf.reshape(tf.range(output_shape[0], dtype=tf.int64), shape=[input_shape[0], 1, 1, 1])\n",
    "    b = one_like_mask * batch_range\n",
    "    y = mask // (output_shape[2] * output_shape[3])\n",
    "    x = mask % (output_shape[2] * output_shape[3]) // output_shape[3]\n",
    "    feature_range = tf.range(output_shape[3], dtype=tf.int64)\n",
    "    f = one_like_mask * feature_range\n",
    "    # transpose indices & reshape update values to one dimension\n",
    "    updates_size = tf.size(net)\n",
    "    indices = tf.transpose(tf.reshape(tf.stack([b, y, x, f]), [4, updates_size]))\n",
    "    values = tf.reshape(net, [updates_size])\n",
    "    ret = tf.scatter_nd(indices, values, output_shape)\n",
    "    return ret"
   ]
  },
  {
   "cell_type": "code",
   "execution_count": 6,
   "metadata": {},
   "outputs": [
    {
     "name": "stdout",
     "output_type": "stream",
     "text": [
      "(1, 4, 4, 2)\n",
      "(1, 2, 2, 2)\n",
      "(1, 2, 2, 2)\n",
      "(1, 4, 4, 2)\n",
      "image:\n",
      "[[[[0. 4.]\n",
      "   [0. 4.]\n",
      "   [0. 4.]\n",
      "   [0. 4.]]\n",
      "\n",
      "  [[1. 5.]\n",
      "   [1. 5.]\n",
      "   [1. 5.]\n",
      "   [1. 5.]]\n",
      "\n",
      "  [[2. 6.]\n",
      "   [2. 6.]\n",
      "   [2. 6.]\n",
      "   [2. 6.]]\n",
      "\n",
      "  [[3. 7.]\n",
      "   [3. 7.]\n",
      "   [3. 7.]\n",
      "   [3. 7.]]]]\n",
      "pooling2:\n",
      " [[[[1. 5.]\n",
      "   [1. 5.]]\n",
      "\n",
      "  [[3. 7.]\n",
      "   [3. 7.]]]]\n",
      "encode:\n",
      " [[[[1. 5.]\n",
      "   [1. 5.]]\n",
      "\n",
      "  [[3. 7.]\n",
      "   [3. 7.]]]] [[[[ 8  9]\n",
      "   [12 13]]\n",
      "\n",
      "  [[24 25]\n",
      "   [28 29]]]]\n",
      "reslut:\n",
      " [[[[0. 0.]\n",
      "   [0. 0.]\n",
      "   [0. 0.]\n",
      "   [0. 0.]]\n",
      "\n",
      "  [[1. 5.]\n",
      "   [0. 0.]\n",
      "   [1. 5.]\n",
      "   [0. 0.]]\n",
      "\n",
      "  [[0. 0.]\n",
      "   [0. 0.]\n",
      "   [0. 0.]\n",
      "   [0. 0.]]\n",
      "\n",
      "  [[3. 7.]\n",
      "   [0. 0.]\n",
      "   [3. 7.]\n",
      "   [0. 0.]]]]\n"
     ]
    }
   ],
   "source": [
    "img=tf.constant([  \n",
    "        [[0.0,4.0],[0.0,4.0],[0.0,4.0],[0.0,4.0]],  \n",
    "        [[1.0,5.0],[1.0,5.0],[1.0,5.0],[1.0,5.0]],  \n",
    "        [[2.0,6.0],[2.0,6.0],[2.0,6.0],[2.0,6.0]],  \n",
    "        [[3.0,7.0],[3.0,7.0], [3.0,7.0],[3.0,7.0]]\n",
    "    ])  \n",
    "  \n",
    "img=tf.reshape(img,[1,4,4,2])  \n",
    "pooling2=tf.nn.max_pool(img,[1,2,2,1],[1,2,2,1],padding='SAME')  \n",
    "encode, mask = max_pool_with_argmax(img, 2)\n",
    "img2 = unpool(encode,mask,2)\n",
    "print(img.shape)\n",
    "print(encode.shape)\n",
    "print(mask.shape)\n",
    "print(img2.shape)\n",
    "with tf.Session() as sess:  \n",
    "    print(\"image:\")  \n",
    "    print (sess.run(img))     \n",
    "    result=sess.run(pooling2)  \n",
    "    print (\"pooling2:\\n\",result)\n",
    "    result,mask2=sess.run([encode, mask])  \n",
    "    print (\"encode:\\n\",result,mask2)\n",
    "    result=sess.run(img2)  \n",
    "    print (\"reslut:\\n\",result)"
   ]
  },
  {
   "cell_type": "code",
   "execution_count": null,
   "metadata": {},
   "outputs": [],
   "source": []
  }
 ],
 "metadata": {
  "kernelspec": {
   "display_name": "Python 3",
   "language": "python",
   "name": "python3"
  },
  "language_info": {
   "codemirror_mode": {
    "name": "ipython",
    "version": 3
   },
   "file_extension": ".py",
   "mimetype": "text/x-python",
   "name": "python",
   "nbconvert_exporter": "python",
   "pygments_lexer": "ipython3",
   "version": "3.6.5"
  }
 },
 "nbformat": 4,
 "nbformat_minor": 2
}
