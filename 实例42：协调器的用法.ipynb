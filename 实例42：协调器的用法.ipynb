{
 "cells": [
  {
   "cell_type": "markdown",
   "metadata": {},
   "source": [
    "### 实例描述\n",
    "#### 先建立一个100大小的队列、主线程使用计数器不同的加1，队列线程再把主线程里的计数器放到队列里。当队列为空时，主线程在sess.run(queue.dequeue())语句位置挂起，当队列线程写入队列中时。主线程的计数器同步开始工作。"
   ]
  },
  {
   "cell_type": "code",
   "execution_count": 1,
   "metadata": {
    "collapsed": true
   },
   "outputs": [],
   "source": [
    "import tensorflow as tf"
   ]
  },
  {
   "cell_type": "code",
   "execution_count": 2,
   "metadata": {
    "collapsed": true
   },
   "outputs": [],
   "source": [
    "# 创建长度为100的队列\n",
    "queue = tf.FIFOQueue(100, 'float')\n",
    "\n",
    "# 计数器\n",
    "c = tf.Variable(0.0)\n",
    "# 加1操作\n",
    "op = tf.assign_add(c, tf.constant(1.0))\n",
    "# 操作：将计数器的结果加入队列\n",
    "enqueue_op = queue.enqueue(c)"
   ]
  },
  {
   "cell_type": "code",
   "execution_count": 3,
   "metadata": {
    "collapsed": false
   },
   "outputs": [
    {
     "name": "stdout",
     "output_type": "stream",
     "text": [
      "WARNING:tensorflow:From <ipython-input-3-25291daf61d9>:2: QueueRunner.__init__ (from tensorflow.python.training.queue_runner_impl) is deprecated and will be removed in a future version.\n",
      "Instructions for updating:\n",
      "To construct input pipelines, use the `tf.data` module.\n"
     ]
    }
   ],
   "source": [
    "# 创建一个队列管理器QueueRunner,用这两个操作向q中添加元素。目前我们只是用一个线程\n",
    "qr = tf.train.QueueRunner(queue, enqueue_ops=[op, enqueue_op])"
   ]
  },
  {
   "cell_type": "code",
   "execution_count": 6,
   "metadata": {
    "collapsed": false
   },
   "outputs": [
    {
     "name": "stdout",
     "output_type": "stream",
     "text": [
      "------------------\n",
      "832.0\n",
      "------------------\n",
      "840.0\n",
      "------------------\n",
      "849.0\n",
      "------------------\n",
      "853.0\n",
      "------------------\n",
      "859.0\n",
      "------------------\n",
      "868.0\n",
      "------------------\n",
      "876.0\n",
      "------------------\n",
      "883.0\n",
      "------------------\n",
      "892.0\n",
      "------------------\n",
      "901.0\n"
     ]
    }
   ],
   "source": [
    "with tf.Session() as sess:\n",
    "    sess.run(tf.global_variables_initializer())\n",
    "    # 线程的协调器。\n",
    "    coord = tf.train.Coordinator()\n",
    "    # 启动入队线程，Coordinator是线程的参数\n",
    "    enqueue_threads = qr.create_threads(sess, coord=coord, start=True)\n",
    "    # 主线程\n",
    "    for i in range(0,10):\n",
    "        print('------------------')\n",
    "        print(sess.run(queue.dequeue()))\n",
    "    # 通知其他线程关闭 其他所有线程关闭之后，这一函数才能返回\n",
    "    coord.request_stop()"
   ]
  },
  {
   "cell_type": "code",
   "execution_count": null,
   "metadata": {
    "collapsed": true
   },
   "outputs": [],
   "source": []
  }
 ],
 "metadata": {
  "anaconda-cloud": {},
  "kernelspec": {
   "display_name": "Python [conda root]",
   "language": "python",
   "name": "conda-root-py"
  },
  "language_info": {
   "codemirror_mode": {
    "name": "ipython",
    "version": 3
   },
   "file_extension": ".py",
   "mimetype": "text/x-python",
   "name": "python",
   "nbconvert_exporter": "python",
   "pygments_lexer": "ipython3",
   "version": "3.5.2"
  }
 },
 "nbformat": 4,
 "nbformat_minor": 1
}
