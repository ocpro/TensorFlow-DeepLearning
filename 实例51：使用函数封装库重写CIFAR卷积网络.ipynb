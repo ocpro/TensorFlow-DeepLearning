{
 "cells": [
  {
   "cell_type": "markdown",
   "metadata": {},
   "source": [
    "### 实例描述\n",
    "#### 将代码“cifar卷积”中的代码使用tf.contrib.layers重构"
   ]
  },
  {
   "cell_type": "code",
   "execution_count": 1,
   "metadata": {},
   "outputs": [],
   "source": [
    "from cifar10 import cifar10_input\n",
    "import tensorflow as tf\n",
    "import numpy as np"
   ]
  },
  {
   "cell_type": "code",
   "execution_count": 3,
   "metadata": {},
   "outputs": [
    {
     "name": "stdout",
     "output_type": "stream",
     "text": [
      "begin\n",
      "begin data\n"
     ]
    }
   ],
   "source": [
    "batch_size = 128\n",
    "print(\"begin\")\n",
    "images_train, labels_train = cifar10_input.inputs(eval_data=False, batch_size=batch_size)\n",
    "images_test, labels_test = cifar10_input.inputs(eval_data=True, batch_size=batch_size)\n",
    "print(\"begin data\")"
   ]
  },
  {
   "cell_type": "code",
   "execution_count": 4,
   "metadata": {},
   "outputs": [],
   "source": [
    "# 定义占位符\n",
    "x = tf.placeholder(tf.float32, [None, 24, 24, 3])   # CIFAR数据集的shape 24*24*3\n",
    "y = tf.placeholder(tf.float32, [None, 10])    # 0-9数字分类  -》 10类\n",
    "\n",
    "x_image = tf.reshape(x, [-1, 24, 24, 3])"
   ]
  },
  {
   "cell_type": "code",
   "execution_count": 6,
   "metadata": {},
   "outputs": [],
   "source": [
    "# tf.contrib.layers.conv2d,    tf.contrib.layers.max_pool2d\n",
    "h_conv1 = tf.contrib.layers.conv2d(x_image, 64, 5, 1, 'SAME', activation_fn=tf.nn.relu)\n",
    "h_pool1 = tf.contrib.layers.max_pool2d(h_conv1, [2, 2], stride=2, padding='SAME')\n",
    "\n",
    "h_conv2 = tf.contrib.layers.conv2d(h_pool1, 64, [5, 5], 1, 'SAME', activation_fn=tf.nn.relu)\n",
    "h_pool2 = tf.contrib.layers.max_pool2d(h_conv2, [2, 2], stride=2, padding='SAME')\n",
    "\n",
    "nt_hpool2 = tf.contrib.layers.avg_pool2d(h_pool2, [6, 6], 6, padding='SAME')\n",
    "\n",
    "nt_hpool2_flat = tf.reshape(nt_hpool2, [-1, 64])\n",
    "\n",
    "# tf.contrib.layers.fully_connected\n",
    "y_conv = tf.contrib.layers.fully_connected(nt_hpool2_flat, 10, activation_fn=tf.nn.softmax)"
   ]
  },
  {
   "cell_type": "code",
   "execution_count": 7,
   "metadata": {},
   "outputs": [],
   "source": [
    "cross_entropy = -tf.reduce_sum(y * tf.log(y_conv))\n",
    "train_step = tf.train.AdamOptimizer(1e-4).minimize(cross_entropy)\n",
    "\n",
    "correct_prediction = tf.equal(tf.argmax(y_conv, 1), tf.argmax(y, 1))\n",
    "accuracy = tf.reduce_mean(tf.cast(correct_prediction, \"float\"))"
   ]
  },
  {
   "cell_type": "code",
   "execution_count": 9,
   "metadata": {},
   "outputs": [
    {
     "name": "stdout",
     "output_type": "stream",
     "text": [
      "step 0, training accuracy 0.109375\n",
      "step 200, training accuracy 0.28125\n",
      "step 400, training accuracy 0.429688\n",
      "step 600, training accuracy 0.429688\n",
      "step 800, training accuracy 0.375\n",
      "step 1000, training accuracy 0.390625\n",
      "step 1200, training accuracy 0.375\n",
      "step 1400, training accuracy 0.476562\n",
      "step 1600, training accuracy 0.328125\n",
      "step 1800, training accuracy 0.5\n",
      "step 2000, training accuracy 0.46875\n",
      "step 2200, training accuracy 0.445312\n",
      "step 2400, training accuracy 0.523438\n",
      "step 2600, training accuracy 0.53125\n",
      "step 2800, training accuracy 0.421875\n",
      "step 3000, training accuracy 0.40625\n",
      "step 3200, training accuracy 0.546875\n",
      "step 3400, training accuracy 0.570312\n",
      "step 3600, training accuracy 0.523438\n",
      "step 3800, training accuracy 0.507812\n",
      "step 4000, training accuracy 0.507812\n",
      "step 4200, training accuracy 0.460938\n",
      "step 4400, training accuracy 0.460938\n",
      "step 4600, training accuracy 0.523438\n",
      "step 4800, training accuracy 0.617188\n",
      "step 5000, training accuracy 0.539062\n",
      "step 5200, training accuracy 0.460938\n",
      "step 5400, training accuracy 0.585938\n",
      "step 5600, training accuracy 0.476562\n",
      "step 5800, training accuracy 0.59375\n",
      "step 6000, training accuracy 0.5\n",
      "step 6200, training accuracy 0.492188\n",
      "step 6400, training accuracy 0.53125\n",
      "step 6600, training accuracy 0.617188\n",
      "step 6800, training accuracy 0.585938\n",
      "step 7000, training accuracy 0.5625\n",
      "step 7200, training accuracy 0.523438\n",
      "step 7400, training accuracy 0.585938\n",
      "step 7600, training accuracy 0.546875\n",
      "step 7800, training accuracy 0.570312\n",
      "step 8000, training accuracy 0.570312\n",
      "step 8200, training accuracy 0.632812\n",
      "step 8400, training accuracy 0.601562\n",
      "step 8600, training accuracy 0.585938\n",
      "step 8800, training accuracy 0.539062\n",
      "step 9000, training accuracy 0.59375\n",
      "step 9200, training accuracy 0.609375\n",
      "step 9400, training accuracy 0.539062\n",
      "step 9600, training accuracy 0.5625\n",
      "step 9800, training accuracy 0.570312\n",
      "step 10000, training accuracy 0.585938\n",
      "step 10200, training accuracy 0.585938\n",
      "step 10400, training accuracy 0.625\n",
      "step 10600, training accuracy 0.601562\n",
      "step 10800, training accuracy 0.625\n",
      "step 11000, training accuracy 0.625\n",
      "step 11200, training accuracy 0.601562\n",
      "step 11400, training accuracy 0.5625\n",
      "step 11600, training accuracy 0.59375\n",
      "step 11800, training accuracy 0.648438\n",
      "step 12000, training accuracy 0.632812\n",
      "step 12200, training accuracy 0.648438\n",
      "step 12400, training accuracy 0.664062\n",
      "step 12600, training accuracy 0.664062\n",
      "step 12800, training accuracy 0.632812\n",
      "step 13000, training accuracy 0.570312\n",
      "step 13200, training accuracy 0.609375\n",
      "step 13400, training accuracy 0.671875\n",
      "step 13600, training accuracy 0.570312\n",
      "step 13800, training accuracy 0.625\n",
      "step 14000, training accuracy 0.617188\n",
      "step 14200, training accuracy 0.5625\n",
      "step 14400, training accuracy 0.617188\n",
      "step 14600, training accuracy 0.570312\n",
      "step 14800, training accuracy 0.65625\n",
      "finished！ test accuracy 0.648438\n"
     ]
    }
   ],
   "source": [
    "sess = tf.Session(config=tf.ConfigProto(device_count={'gpu':0}))\n",
    "sess.run(tf.global_variables_initializer())\n",
    "for i in range(15000):  # 20000\n",
    "    image_batch, label_batch = sess.run([images_train, labels_train])\n",
    "    label_b = np.eye(10, dtype=float)[label_batch]    #one hot\n",
    "    \n",
    "    train_step.run(feed_dict={x:image_batch, y: label_b},session=sess)\n",
    "    \n",
    "    if i%200 == 0:\n",
    "        train_accuracy = accuracy.eval(feed_dict={x:image_batch, y: label_b},session=sess)\n",
    "        print( \"step %d, training accuracy %g\"%(i, train_accuracy))\n",
    "\n",
    "image_batch, label_batch = sess.run([images_test, labels_test])\n",
    "label_b = np.eye(10,dtype=float)[label_batch]#one hot\n",
    "print (\"finished！ test accuracy %g\"%accuracy.eval(feed_dict={x:image_batch, y: label_b},session=sess))"
   ]
  },
  {
   "cell_type": "code",
   "execution_count": null,
   "metadata": {},
   "outputs": [],
   "source": []
  }
 ],
 "metadata": {
  "kernelspec": {
   "display_name": "Python 3",
   "language": "python",
   "name": "python3"
  },
  "language_info": {
   "codemirror_mode": {
    "name": "ipython",
    "version": 3
   },
   "file_extension": ".py",
   "mimetype": "text/x-python",
   "name": "python",
   "nbconvert_exporter": "python",
   "pygments_lexer": "ipython3",
   "version": "3.6.5"
  }
 },
 "nbformat": 4,
 "nbformat_minor": 2
}
