{
 "cells": [
  {
   "cell_type": "code",
   "execution_count": 1,
   "metadata": {
    "collapsed": false
   },
   "outputs": [
    {
     "name": "stdout",
     "output_type": "stream",
     "text": [
      "相加：7\n",
      "相乘：12\n",
      "[12, 7]\n"
     ]
    }
   ],
   "source": [
    "# 实例描述 使用fetch机制将定义在图中的节点数值算出来\n",
    "import tensorflow as tf\n",
    "a = tf.placeholder(tf.int16)\n",
    "b = tf.placeholder(tf.int16)\n",
    "add = tf.add(a,b)\n",
    "mul = tf.multiply(a,b)\n",
    "with tf.Session() as session:\n",
    "    # 将op运算符通过run打印出来\n",
    "    print('相加：%i' % session.run(add, feed_dict={a:3, b:4}))\n",
    "    # 将add节点打印出来\n",
    "    print('相乘：%i' % session.run(mul, feed_dict={a:3, b:4}))\n",
    "    print(session.run([mul, add], feed_dict={a:3, b:4}))"
   ]
  },
  {
   "cell_type": "code",
   "execution_count": null,
   "metadata": {
    "collapsed": true
   },
   "outputs": [],
   "source": []
  }
 ],
 "metadata": {
  "anaconda-cloud": {},
  "kernelspec": {
   "display_name": "Python [conda root]",
   "language": "python",
   "name": "conda-root-py"
  },
  "language_info": {
   "codemirror_mode": {
    "name": "ipython",
    "version": 3
   },
   "file_extension": ".py",
   "mimetype": "text/x-python",
   "name": "python",
   "nbconvert_exporter": "python",
   "pygments_lexer": "ipython3",
   "version": "3.5.2"
  }
 },
 "nbformat": 4,
 "nbformat_minor": 1
}
