{
 "cells": [
  {
   "cell_type": "code",
   "execution_count": 1,
   "metadata": {
    "collapsed": true
   },
   "outputs": [],
   "source": [
    "import tensorflow as tf\n",
    "import numpy as np"
   ]
  },
  {
   "cell_type": "code",
   "execution_count": 2,
   "metadata": {
    "collapsed": true
   },
   "outputs": [],
   "source": [
    "# 3.定义变量\n",
    "learning_rate = 1e-4\n",
    "n_input = 2    # 输入层节点个数\n",
    "n_label = 1\n",
    "n_hidden = 2  # 隐藏层节点个数\n",
    "\n",
    "x = tf.placeholder(tf.float32, [None, n_input])\n",
    "y = tf.placeholder(tf.float32, [None, n_label])"
   ]
  },
  {
   "cell_type": "code",
   "execution_count": 3,
   "metadata": {
    "collapsed": true
   },
   "outputs": [],
   "source": [
    "# 4.定义学习参数\n",
    "weight = {\n",
    "    # 从截断的正态分布中输出随机值\n",
    "    'h1':tf.Variable(tf.truncated_normal([n_input, n_hidden], stddev=0.1)),\n",
    "    'h2':tf.Variable(tf.truncated_normal([n_hidden, n_label], stddev=0.1))\n",
    "}\n",
    "biases = {\n",
    "    'h1':tf.Variable(tf.zeros([n_hidden])),\n",
    "    'h2':tf.Variable(tf.zeros([n_label]))\n",
    "}"
   ]
  },
  {
   "cell_type": "code",
   "execution_count": 4,
   "metadata": {
    "collapsed": true
   },
   "outputs": [],
   "source": [
    "# 5.定义网络模型\n",
    "layer_1 = tf.nn.relu(tf.add(tf.matmul(x, weight['h1']), biases['h1']))\n",
    "y_pred = tf.nn.tanh(tf.add(tf.matmul(layer_1, weight['h2']), biases['h2']))\n",
    "\n",
    "loss = tf.reduce_mean((y_pred-y)**2)\n",
    "train_step = tf.train.AdamOptimizer(learning_rate).minimize(loss)"
   ]
  },
  {
   "cell_type": "code",
   "execution_count": 5,
   "metadata": {
    "collapsed": true
   },
   "outputs": [],
   "source": [
    "# 6.构建模拟数据\n",
    "X = [[0,0], [0,1], [1,0], [1,1]]\n",
    "Y = [[0], [1], [1], [0]]\n",
    "X = np.array(X).astype('float32')\n",
    "Y = np.array(Y).astype('int16')"
   ]
  },
  {
   "cell_type": "code",
   "execution_count": 9,
   "metadata": {
    "collapsed": false
   },
   "outputs": [
    {
     "name": "stdout",
     "output_type": "stream",
     "text": [
      "[[0.00303884]\n",
      " [0.96092564]\n",
      " [0.9490076 ]\n",
      " [0.00503183]]\n",
      "[[0.0000000e+00 5.3709650e-06]\n",
      " [0.0000000e+00 1.0974910e+00]\n",
      " [1.2217284e+00 0.0000000e+00]\n",
      " [1.3452788e-03 0.0000000e+00]]\n"
     ]
    }
   ],
   "source": [
    "# 运行session，生成结果\n",
    "sess = tf.InteractiveSession()\n",
    "sess.run(tf.global_variables_initializer())\n",
    "\n",
    "# 训练\n",
    "for i in range(20000):\n",
    "    sess.run(train_step, feed_dict={x:X, y:Y})\n",
    "# 计算预测值\n",
    "print(sess.run(y_pred,  feed_dict={x:X, y:Y}))\n",
    "# 输出：已训练100000次\n",
    "\n",
    "# 查看隐藏层的输出\n",
    "print(sess.run(layer_1, feed_dict={x:X, y:Y}))"
   ]
  },
  {
   "cell_type": "code",
   "execution_count": null,
   "metadata": {
    "collapsed": true
   },
   "outputs": [],
   "source": []
  }
 ],
 "metadata": {
  "kernelspec": {
   "display_name": "Python [conda root]",
   "language": "python",
   "name": "conda-root-py"
  },
  "language_info": {
   "codemirror_mode": {
    "name": "ipython",
    "version": 3
   },
   "file_extension": ".py",
   "mimetype": "text/x-python",
   "name": "python",
   "nbconvert_exporter": "python",
   "pygments_lexer": "ipython3",
   "version": "3.5.2"
  }
 },
 "nbformat": 4,
 "nbformat_minor": 1
}
