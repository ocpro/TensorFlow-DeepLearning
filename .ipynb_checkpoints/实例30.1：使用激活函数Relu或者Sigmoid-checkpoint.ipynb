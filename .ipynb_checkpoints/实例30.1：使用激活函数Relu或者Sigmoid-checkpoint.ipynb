{
 "cells": [
  {
   "cell_type": "code",
   "execution_count": 1,
   "metadata": {
    "collapsed": true
   },
   "outputs": [],
   "source": [
    "import tensorflow as tf\n",
    "import numpy as np"
   ]
  },
  {
   "cell_type": "code",
   "execution_count": 2,
   "metadata": {
    "collapsed": true
   },
   "outputs": [],
   "source": [
    "# 网络结构：2维输入 --> 2维隐藏层 --> 1维输出\n",
    "\n",
    "learning_rate = 1e-4\n",
    "n_input  = 2\n",
    "n_label  = 1\n",
    "n_hidden = 2"
   ]
  },
  {
   "cell_type": "code",
   "execution_count": 3,
   "metadata": {
    "collapsed": true
   },
   "outputs": [],
   "source": [
    "x = tf.placeholder(tf.float32, [None,n_input])\n",
    "y = tf.placeholder(tf.float32, [None, n_label])\n",
    "\n",
    "weights = {\n",
    "    'h1': tf.Variable(tf.truncated_normal([n_input, n_hidden], stddev=0.1)),\n",
    "    'h2': tf.Variable(tf.random_normal([n_hidden, n_label], stddev=0.1))\n",
    "\t} \n",
    "biases = {\n",
    "    'h1': tf.Variable(tf.zeros([n_hidden])),\n",
    "    'h2': tf.Variable(tf.zeros([n_label]))\n",
    "    }    "
   ]
  },
  {
   "cell_type": "code",
   "execution_count": 4,
   "metadata": {
    "collapsed": true
   },
   "outputs": [],
   "source": [
    "layer_1 = tf.nn.relu(tf.add(tf.matmul(x, weights['h1']), biases['h1']))\n",
    "#y_pred = tf.nn.tanh(tf.add(tf.matmul(layer_1, weights['h2']),biases['h2']))\n",
    "\n",
    "#y_pred = tf.nn.relu(tf.add(tf.matmul(layer_1, weights['h2']),biases['h2']))#局部最优解\n",
    "\n",
    "#y_pred = tf.nn.sigmoid(tf.add(tf.matmul(layer_1, weights['h2']),biases['h2']))\n",
    "\n",
    "#Leaky relus  40000次 ok\n",
    "#layer2 =tf.add(tf.matmul(layer_1, weights['h2']),biases['h2'])\n",
    "#y_pred = tf.maximum(layer2,0.01*layer2)"
   ]
  },
  {
   "cell_type": "code",
   "execution_count": 5,
   "metadata": {
    "collapsed": true
   },
   "outputs": [],
   "source": [
    "loss=tf.reduce_mean((y_pred-y)**2)\n",
    "train_step = tf.train.AdamOptimizer(learning_rate).minimize(loss)\n",
    "\n",
    "#生成数据\n",
    "X=[[0,0],[0,1],[1,0],[1,1]]\n",
    "Y=[[0],[1],[1],[0]]\n",
    "X=np.array(X).astype('float32')\n",
    "Y=np.array(Y).astype('int16')"
   ]
  },
  {
   "cell_type": "code",
   "execution_count": 7,
   "metadata": {
    "collapsed": false
   },
   "outputs": [
    {
     "name": "stdout",
     "output_type": "stream",
     "text": [
      "[[0.49999997]\n",
      " [0.49999997]\n",
      " [0.49999997]\n",
      " [0.49999997]]\n",
      "[[0. 0.]\n",
      " [0. 0.]\n",
      " [0. 0.]\n",
      " [0. 0.]]\n"
     ]
    }
   ],
   "source": [
    "#加载\n",
    "sess = tf.InteractiveSession()\n",
    "sess.run(tf.global_variables_initializer())\n",
    "\n",
    "#训练\n",
    "for i in range(20000):\n",
    "    sess.run(train_step,feed_dict={x:X,y:Y} )\n",
    "\n",
    "     \n",
    "#计算预测值\n",
    "print(sess.run(y_pred,feed_dict={x:X}))\n",
    "#输出：已训练100000次\n",
    "\n",
    "       \n",
    "#查看隐藏层的输出\n",
    "print(sess.run(layer_1,feed_dict={x:X}))"
   ]
  },
  {
   "cell_type": "code",
   "execution_count": null,
   "metadata": {
    "collapsed": true
   },
   "outputs": [],
   "source": []
  }
 ],
 "metadata": {
  "anaconda-cloud": {},
  "kernelspec": {
   "display_name": "Python [conda root]",
   "language": "python",
   "name": "conda-root-py"
  },
  "language_info": {
   "codemirror_mode": {
    "name": "ipython",
    "version": 3
   },
   "file_extension": ".py",
   "mimetype": "text/x-python",
   "name": "python",
   "nbconvert_exporter": "python",
   "pygments_lexer": "ipython3",
   "version": "3.5.2"
  }
 },
 "nbformat": 4,
 "nbformat_minor": 1
}
