{
 "cells": [
  {
   "cell_type": "code",
   "execution_count": 2,
   "metadata": {
    "collapsed": false
   },
   "outputs": [
    {
     "name": "stdout",
     "output_type": "stream",
     "text": [
      "Extracting MNIST_data/train-images-idx3-ubyte.gz\n",
      "Extracting MNIST_data/train-labels-idx1-ubyte.gz\n",
      "Extracting MNIST_data/t10k-images-idx3-ubyte.gz\n",
      "Extracting MNIST_data/t10k-labels-idx1-ubyte.gz\n"
     ]
    }
   ],
   "source": [
    "import tensorflow as tf\n",
    "# 导入 MINST 数据集\n",
    "from tensorflow.examples.tutorials.mnist import input_data\n",
    "mnist = input_data.read_data_sets(\"MNIST_data/\", one_hot=True)"
   ]
  },
  {
   "cell_type": "code",
   "execution_count": 3,
   "metadata": {
    "collapsed": true
   },
   "outputs": [],
   "source": [
    "# 1.定义网络参数\n",
    "# 定义参数\n",
    "learning_rate = 0.001\n",
    "training_epochs = 25\n",
    "batch_size = 100\n",
    "display_step = 1\n",
    "\n",
    "# 设置网络模型参数\n",
    "n_hidden_1 = 256      # 第一个隐藏层节点个数\n",
    "n_hidden_2 = 256      # 第二个隐藏层节点个数\n",
    "n_input = 784         # MNIST共784(28*28维)\n",
    "n_classes = 10        # MNIST共10个类别(0-9)"
   ]
  },
  {
   "cell_type": "code",
   "execution_count": 7,
   "metadata": {
    "collapsed": false
   },
   "outputs": [
    {
     "name": "stdout",
     "output_type": "stream",
     "text": [
      "WARNING:tensorflow:From <ipython-input-7-ecd43770e787>:33: softmax_cross_entropy_with_logits (from tensorflow.python.ops.nn_ops) is deprecated and will be removed in a future version.\n",
      "Instructions for updating:\n",
      "\n",
      "Future major versions of TensorFlow will allow gradients to flow\n",
      "into the labels input on backprop by default.\n",
      "\n",
      "See tf.nn.softmax_cross_entropy_with_logits_v2.\n",
      "\n"
     ]
    }
   ],
   "source": [
    "# 2.定义网络结构\n",
    "x = tf.placeholder(\"float\", [None, n_input])\n",
    "y = tf.placeholder(\"float\", [None, n_classes])\n",
    "\n",
    "# 创建model\n",
    "def multilayer_perceptron(x, weights, biases):\n",
    "    # 第一层隐藏层\n",
    "    layer_1 = tf.add(tf.matmul(x, weights['h1']), biases['b1'])\n",
    "    layer_1 = tf.nn.relu(layer_1 )\n",
    "    # 第二次隐藏层\n",
    "    layer_2 = tf.add(tf.matmul(layer_1, weights['h2']), biases['b2'])\n",
    "    layer_2 = tf.nn.relu(layer_2)\n",
    "    # 输出层\n",
    "    out_layer = tf.matmul(layer_2, weights['out']) + biases['out']\n",
    "    return out_layer\n",
    "\n",
    "# 学习参数\n",
    "weights = {\n",
    "    'h1':tf.Variable(tf.random_normal([n_input,n_hidden_1])),\n",
    "    'h2':tf.Variable(tf.random_normal([n_hidden_1,n_hidden_2])),\n",
    "    'out':tf.Variable(tf.random_normal([n_hidden_2, n_classes]))\n",
    "}\n",
    "biases = {\n",
    "    'b1':tf.Variable(tf.random_normal([n_hidden_1])),\n",
    "    'b2':tf.Variable(tf.random_normal([n_hidden_2])),\n",
    "    'out':tf.Variable(tf.random_normal([n_classes]))\n",
    "}\n",
    "\n",
    "# 输出值\n",
    "pred = multilayer_perceptron(x, weights, biases)\n",
    "\n",
    "# 定义loss和优化器\n",
    "cost = tf.reduce_mean(tf.nn.softmax_cross_entropy_with_logits(logits=pred, labels=y))\n",
    "optimizer = tf.train.AdamOptimizer(learning_rate=learning_rate).minimize(cost)"
   ]
  },
  {
   "cell_type": "code",
   "execution_count": 12,
   "metadata": {
    "collapsed": false
   },
   "outputs": [
    {
     "name": "stdout",
     "output_type": "stream",
     "text": [
      "Epoch: 0001 cost= 173.533137131\n",
      "Epoch: 0002 cost= 41.061849714\n",
      "Epoch: 0003 cost= 25.665817761\n",
      "Epoch: 0004 cost= 17.805839689\n",
      "Epoch: 0005 cost= 12.791129619\n",
      "Epoch: 0006 cost= 9.392438245\n",
      "Epoch: 0007 cost= 7.046959183\n",
      "Epoch: 0008 cost= 5.192790599\n",
      "Epoch: 0009 cost= 3.970116927\n",
      "Epoch: 0010 cost= 3.044468417\n",
      "Epoch: 0011 cost= 2.160289331\n",
      "Epoch: 0012 cost= 1.669568662\n",
      "Epoch: 0013 cost= 1.236032414\n",
      "Epoch: 0014 cost= 1.026716913\n",
      "Epoch: 0015 cost= 0.738504629\n",
      "Epoch: 0016 cost= 0.650299116\n",
      "Epoch: 0017 cost= 0.579289533\n",
      "Epoch: 0018 cost= 0.528187439\n",
      "Epoch: 0019 cost= 0.568875336\n",
      "Epoch: 0020 cost= 0.389188918\n",
      "Epoch: 0021 cost= 0.336106319\n",
      "Epoch: 0022 cost= 0.284265098\n",
      "Epoch: 0023 cost= 0.329165464\n",
      "Epoch: 0024 cost= 0.348808129\n",
      "Epoch: 0025 cost= 0.364322409\n",
      "Finished!\n",
      "Accuracy: 0.9505\n"
     ]
    }
   ],
   "source": [
    "# 3.启动session\n",
    "with tf.Session() as sess:\n",
    "    sess.run(tf.global_variables_initializer())\n",
    "    \n",
    "    # 启动循环开始训练\n",
    "    for epoch in range(training_epochs):\n",
    "        avg_cost = 0\n",
    "        total_batch = int(mnist.train.num_examples/batch_size)\n",
    "        # 循环所有数据集\n",
    "        for i in range(total_batch):\n",
    "            batch_xs, batch_ys = mnist.train.next_batch(batch_size)\n",
    "            # 运行优化器\n",
    "            _, c = sess.run([optimizer, cost], feed_dict={x:batch_xs, y:batch_ys})\n",
    "            # 计算平均loss值\n",
    "            avg_cost += c/total_batch\n",
    "        # 显示训练中的详细信息\n",
    "        if (epoch+1) % display_step == 0:\n",
    "            print(\"Epoch:\", \"%04d\" % (epoch+1), \"cost=\", \"{:.9f}\".format(avg_cost))\n",
    "    print(\"Finished!\")\n",
    "    \n",
    "# 测试model\n",
    "    correct_prediction = tf.equal(tf.arg_max(pred,1), tf.arg_max(y,1))\n",
    "    # 计算准确度\n",
    "    accuracy = tf.reduce_mean(tf.cast(correct_prediction, tf.float32))\n",
    "    print (\"Accuracy:\", accuracy.eval({x: mnist.test.images, y: mnist.test.labels}))"
   ]
  },
  {
   "cell_type": "code",
   "execution_count": null,
   "metadata": {
    "collapsed": true
   },
   "outputs": [],
   "source": []
  }
 ],
 "metadata": {
  "kernelspec": {
   "display_name": "Python [conda root]",
   "language": "python",
   "name": "conda-root-py"
  },
  "language_info": {
   "codemirror_mode": {
    "name": "ipython",
    "version": 3
   },
   "file_extension": ".py",
   "mimetype": "text/x-python",
   "name": "python",
   "nbconvert_exporter": "python",
   "pygments_lexer": "ipython3",
   "version": "3.5.2"
  }
 },
 "nbformat": 4,
 "nbformat_minor": 1
}
